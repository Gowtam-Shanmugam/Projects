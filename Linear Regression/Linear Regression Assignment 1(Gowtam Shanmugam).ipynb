{
 "cells": [
  {
   "cell_type": "code",
   "execution_count": 1,
   "id": "d2b3c2a7",
   "metadata": {},
   "outputs": [],
   "source": [
    "import pandas as pd\n",
    "import numpy as np\n",
    "import matplotlib.pyplot as plt\n",
    "import seaborn as sns"
   ]
  },
  {
   "cell_type": "code",
   "execution_count": 2,
   "id": "cc1960ff",
   "metadata": {},
   "outputs": [
    {
     "data": {
      "text/html": [
       "<div>\n",
       "<style scoped>\n",
       "    .dataframe tbody tr th:only-of-type {\n",
       "        vertical-align: middle;\n",
       "    }\n",
       "\n",
       "    .dataframe tbody tr th {\n",
       "        vertical-align: top;\n",
       "    }\n",
       "\n",
       "    .dataframe thead th {\n",
       "        text-align: right;\n",
       "    }\n",
       "</style>\n",
       "<table border=\"1\" class=\"dataframe\">\n",
       "  <thead>\n",
       "    <tr style=\"text-align: right;\">\n",
       "      <th></th>\n",
       "      <th>YearsExperience</th>\n",
       "      <th>Salary</th>\n",
       "    </tr>\n",
       "  </thead>\n",
       "  <tbody>\n",
       "    <tr>\n",
       "      <th>0</th>\n",
       "      <td>1.1</td>\n",
       "      <td>39343.0</td>\n",
       "    </tr>\n",
       "    <tr>\n",
       "      <th>1</th>\n",
       "      <td>1.3</td>\n",
       "      <td>46205.0</td>\n",
       "    </tr>\n",
       "    <tr>\n",
       "      <th>2</th>\n",
       "      <td>1.5</td>\n",
       "      <td>37731.0</td>\n",
       "    </tr>\n",
       "    <tr>\n",
       "      <th>3</th>\n",
       "      <td>2.0</td>\n",
       "      <td>43525.0</td>\n",
       "    </tr>\n",
       "    <tr>\n",
       "      <th>4</th>\n",
       "      <td>2.2</td>\n",
       "      <td>39891.0</td>\n",
       "    </tr>\n",
       "  </tbody>\n",
       "</table>\n",
       "</div>"
      ],
      "text/plain": [
       "   YearsExperience   Salary\n",
       "0              1.1  39343.0\n",
       "1              1.3  46205.0\n",
       "2              1.5  37731.0\n",
       "3              2.0  43525.0\n",
       "4              2.2  39891.0"
      ]
     },
     "execution_count": 2,
     "metadata": {},
     "output_type": "execute_result"
    }
   ],
   "source": [
    "data=pd.read_csv(r'C:\\Users\\gowta\\OneDrive\\Desktop\\Data Science\\assignment\\Linear Regression Assignment\\data.csv')\n",
    "data.head()"
   ]
  },
  {
   "cell_type": "markdown",
   "id": "4c628f21",
   "metadata": {},
   "source": [
    "# 1. How many employees having more than 5 years experience are earning more than 60000?\n",
    ">a. 41\n",
    "\n",
    ">b. 12\n",
    "\n",
    ">c. 21\n",
    "\n",
    ">d. 14\n",
    "\n",
    ">Ans: d. 14"
   ]
  },
  {
   "cell_type": "code",
   "execution_count": 18,
   "id": "11f681ac",
   "metadata": {},
   "outputs": [
    {
     "data": {
      "text/plain": [
       "(14, 2)"
      ]
     },
     "execution_count": 18,
     "metadata": {},
     "output_type": "execute_result"
    }
   ],
   "source": [
    "x=(data[(data['YearsExperience'] > 5) & (data['Salary'] > 60000)])\n",
    "x.shape"
   ]
  },
  {
   "cell_type": "code",
   "execution_count": 6,
   "id": "f6ad4d2f",
   "metadata": {},
   "outputs": [
    {
     "data": {
      "text/plain": [
       "Index(['YearsExperience', 'Salary'], dtype='object')"
      ]
     },
     "execution_count": 6,
     "metadata": {},
     "output_type": "execute_result"
    }
   ],
   "source": [
    "data.columns"
   ]
  },
  {
   "cell_type": "markdown",
   "id": "ae6151ef",
   "metadata": {},
   "source": [
    "# 2. How many employees are earning between 50000-80000?\n",
    ">a. 14\n",
    "\n",
    ">b. 12\n",
    "\n",
    ">c. 10\n",
    "\n",
    ">d. 13\n",
    "\n",
    ">Ans: b. 12"
   ]
  },
  {
   "cell_type": "code",
   "execution_count": 20,
   "id": "c2257796",
   "metadata": {},
   "outputs": [
    {
     "data": {
      "text/plain": [
       "(12, 2)"
      ]
     },
     "execution_count": 20,
     "metadata": {},
     "output_type": "execute_result"
    }
   ],
   "source": [
    "y=(data[(data['Salary'] > 50000)& (data['Salary'] < 80000)])\n",
    "y.shape"
   ]
  },
  {
   "attachments": {
    "image.png": {
     "image/png": "[encoded data removed]"
    }
   },
   "cell_type": "markdown",
   "id": "f2c250f5",
   "metadata": {},
   "source": [
    "# 3. The scatter plot in the following image shows the relationship between the “YearsExperience” and “Salary” columns. What possible inferences can be drawn from the plot?\n",
    "\n",
    ">a. The plot shows a positive correlation between the ‘YearsExperience” and “Salary”\n",
    "column.\n",
    "\n",
    ">b. The plot shows no significant relationship between the “YearExperience” and\n",
    "“Salary” column.\n",
    "\n",
    ">c. The plot shows a negative correlation between the “YearsExperience” and\n",
    "“Salary” column.\n",
    "\n",
    ">d. None of the above.\n",
    "\n",
    "![image.png](attachment:image.png)\n",
    "\n",
    ">Ans: a. The plot shows a positive correlation between the ‘YearsExperience” and “Salary”\n",
    "column."
   ]
  },
  {
   "attachments": {
    "image.png": {
     "image/png": "[encoded data removed]"
    }
   },
   "cell_type": "markdown",
   "id": "fc32bd2e",
   "metadata": {},
   "source": [
    "# 4. The distribution plot of the column “YearsExperience” is shown in the image below, what possible inferences can be drawn from the plot.\n",
    ">a. “YearsExperience” data is normally distributed.\n",
    "\n",
    ">b. “YearsExperience” data is positively skewed.\n",
    "\n",
    ">c. “YearsExperience” data is negatively skewed.\n",
    "\n",
    ">d. None of the above.\n",
    "\n",
    "![image.png](attachment:image.png)\n",
    "\n",
    ">Ans: b. “YearsExperience” data is positively skewed."
   ]
  },
  {
   "attachments": {
    "image.png": {
     "image/png": "[encoded data removed]"
    }
   },
   "cell_type": "markdown",
   "id": "d5e9373c",
   "metadata": {},
   "source": [
    "# 5. What all inferences can be drawn from the table shown below:\n",
    ">a. The range of the “YearsExperience” and “Salary” data is (9.4 , 84660 )\n",
    "\n",
    ">b. The range of the “YearsExperience” and “Salary” data is (4.7 , 65237 )\n",
    "\n",
    ">c. The range of the “YearsExperience” and “Salary” data is (10.5, 122391)\n",
    "\n",
    ">d. The range of the “YearsExperience” and “Salary” data is (7.7 ,100544)\n",
    "\n",
    "![image.png](attachment:image.png)\n",
    "\n",
    ">Ans: a. The range of the “YearsExperience” and “Salary” data is (9.4 , 84660 )"
   ]
  },
  {
   "cell_type": "markdown",
   "id": "7b969966",
   "metadata": {},
   "source": [
    "# 6. To split the dataset into training and testing data, if we use the following\n",
    "\n",
    "code. X = data['YearsExperience']\n",
    "y = data['Salary']\n",
    "\n",
    "X_train, X_test, y_train, y_test = train_test_split(X, y, test_size=0.2,\n",
    "random_state=0) What does it mean when we write the test size as 0.2?\n",
    "\n",
    ">a. The testing data will be 2% accurate.\n",
    "\n",
    ">b. The testing data will have 80% samples from the total population.\n",
    "\n",
    ">c. The testing data will have 2% samples from the total population.\n",
    "\n",
    ">d. The training data will consist of 80% of the samples from the total population.\n",
    "\n",
    ">Ans: d. The training data will consist of 80% of the samples from the total population."
   ]
  },
  {
   "cell_type": "markdown",
   "id": "9c368c12",
   "metadata": {},
   "source": [
    "# 7. In the above example code, we have taken the random state as 0, if we change the random state as 42, what does it mean for our training and testing data?\n",
    ">a. The shape of the training data will become (42,)\n",
    "\n",
    ">b. The shape of the training data will become (42,2)\n",
    "\n",
    ">c. The random state does not have any effect on the shape of the data.\n",
    "\n",
    ">d. The random state will increase the efficiency of the model by 42%.\n",
    "\n",
    ">Ans: c. The random state does not have any effect on the shape of the data."
   ]
  },
  {
   "cell_type": "markdown",
   "id": "1398d194",
   "metadata": {},
   "source": [
    "# 8. If the r2 score calculated in the above example is 0.98 , change the sample size of the training and testing set in the ratio 60:40, and build a linear regression model again. After plotting the best fit line on the test data, calculate the r2_score for the new model.\n",
    ">a. 0.98\n",
    "\n",
    ">b. 0.96\n",
    "\n",
    ">c. 1.0\n",
    "\n",
    ">d. 0.0\n",
    "\n",
    ">Ans: b. 0.96"
   ]
  },
  {
   "cell_type": "code",
   "execution_count": 21,
   "id": "679e2765",
   "metadata": {},
   "outputs": [],
   "source": [
    "x = data[[\"YearsExperience\"]]"
   ]
  },
  {
   "cell_type": "code",
   "execution_count": 22,
   "id": "1c015548",
   "metadata": {},
   "outputs": [],
   "source": [
    "y = data[[\"Salary\"]]"
   ]
  },
  {
   "cell_type": "code",
   "execution_count": 23,
   "id": "62dfa94b",
   "metadata": {},
   "outputs": [],
   "source": [
    "from sklearn.linear_model import LinearRegression\n",
    "from sklearn.model_selection import train_test_split"
   ]
  },
  {
   "cell_type": "code",
   "execution_count": 24,
   "id": "dd9958a9",
   "metadata": {},
   "outputs": [],
   "source": [
    "x_train,x_test,y_train,y_test=train_test_split(x,y,train_size=0.60,random_state=0)"
   ]
  },
  {
   "cell_type": "code",
   "execution_count": 25,
   "id": "c3c0af15",
   "metadata": {},
   "outputs": [],
   "source": [
    "l_model=LinearRegression()"
   ]
  },
  {
   "cell_type": "code",
   "execution_count": 26,
   "id": "b2f6e5b5",
   "metadata": {},
   "outputs": [
    {
     "data": {
      "text/plain": [
       "LinearRegression()"
      ]
     },
     "execution_count": 26,
     "metadata": {},
     "output_type": "execute_result"
    }
   ],
   "source": [
    "l_model.fit(x_train,y_train)"
   ]
  },
  {
   "cell_type": "code",
   "execution_count": 27,
   "id": "d3939212",
   "metadata": {},
   "outputs": [],
   "source": [
    "y_pred=l_model.predict(x_test)"
   ]
  },
  {
   "cell_type": "code",
   "execution_count": 28,
   "id": "f4aae00e",
   "metadata": {},
   "outputs": [
    {
     "data": {
      "text/plain": [
       "0.9679117063698979"
      ]
     },
     "execution_count": 28,
     "metadata": {},
     "output_type": "execute_result"
    }
   ],
   "source": [
    "from sklearn.metrics import r2_score\n",
    "r2_score(y_test,y_pred)"
   ]
  },
  {
   "cell_type": "markdown",
   "id": "10fd3236",
   "metadata": {},
   "source": [
    "# 9. If while fitting the model with training and testing data, you get the following error ValueError: Expected 2D array, got 1D array instead: What could be the issue with the data, and how can you solve it?\n",
    "\n",
    ">a. Reshape the data to a two dimensional array\n",
    "\n",
    ">b. Reshape the data to two arrays of 1-D each.\n",
    "\n",
    ">c. Both A and B\n",
    "\n",
    ">d. None of the above\n",
    "\n",
    ">Ans: a. Reshape the data to a two dimensional array"
   ]
  },
  {
   "cell_type": "code",
   "execution_count": 29,
   "id": "cd28955b",
   "metadata": {},
   "outputs": [
    {
     "data": {
      "text/html": [
       "<div>\n",
       "<style scoped>\n",
       "    .dataframe tbody tr th:only-of-type {\n",
       "        vertical-align: middle;\n",
       "    }\n",
       "\n",
       "    .dataframe tbody tr th {\n",
       "        vertical-align: top;\n",
       "    }\n",
       "\n",
       "    .dataframe thead th {\n",
       "        text-align: right;\n",
       "    }\n",
       "</style>\n",
       "<table border=\"1\" class=\"dataframe\">\n",
       "  <thead>\n",
       "    <tr style=\"text-align: right;\">\n",
       "      <th></th>\n",
       "      <th>id</th>\n",
       "      <th>date</th>\n",
       "      <th>price</th>\n",
       "      <th>bedrooms</th>\n",
       "      <th>bathrooms</th>\n",
       "      <th>sqft_living</th>\n",
       "      <th>sqft_lot</th>\n",
       "      <th>floors</th>\n",
       "      <th>waterfront</th>\n",
       "      <th>view</th>\n",
       "      <th>...</th>\n",
       "      <th>grade</th>\n",
       "      <th>sqft_above</th>\n",
       "      <th>sqft_basement</th>\n",
       "      <th>yr_built</th>\n",
       "      <th>yr_renovated</th>\n",
       "      <th>zipcode</th>\n",
       "      <th>lat</th>\n",
       "      <th>long</th>\n",
       "      <th>sqft_living15</th>\n",
       "      <th>sqft_lot15</th>\n",
       "    </tr>\n",
       "  </thead>\n",
       "  <tbody>\n",
       "    <tr>\n",
       "      <th>0</th>\n",
       "      <td>7129300520</td>\n",
       "      <td>20141013T000000</td>\n",
       "      <td>221900</td>\n",
       "      <td>3</td>\n",
       "      <td>1.00</td>\n",
       "      <td>1180</td>\n",
       "      <td>5650</td>\n",
       "      <td>1.0</td>\n",
       "      <td>0</td>\n",
       "      <td>0</td>\n",
       "      <td>...</td>\n",
       "      <td>7</td>\n",
       "      <td>1180</td>\n",
       "      <td>0</td>\n",
       "      <td>1955</td>\n",
       "      <td>0</td>\n",
       "      <td>98178</td>\n",
       "      <td>47.5112</td>\n",
       "      <td>-122.257</td>\n",
       "      <td>1340</td>\n",
       "      <td>5650</td>\n",
       "    </tr>\n",
       "    <tr>\n",
       "      <th>1</th>\n",
       "      <td>6414100192</td>\n",
       "      <td>20141209T000000</td>\n",
       "      <td>538000</td>\n",
       "      <td>3</td>\n",
       "      <td>2.25</td>\n",
       "      <td>2570</td>\n",
       "      <td>7242</td>\n",
       "      <td>2.0</td>\n",
       "      <td>0</td>\n",
       "      <td>0</td>\n",
       "      <td>...</td>\n",
       "      <td>7</td>\n",
       "      <td>2170</td>\n",
       "      <td>400</td>\n",
       "      <td>1951</td>\n",
       "      <td>1991</td>\n",
       "      <td>98125</td>\n",
       "      <td>47.7210</td>\n",
       "      <td>-122.319</td>\n",
       "      <td>1690</td>\n",
       "      <td>7639</td>\n",
       "    </tr>\n",
       "    <tr>\n",
       "      <th>2</th>\n",
       "      <td>5631500400</td>\n",
       "      <td>20150225T000000</td>\n",
       "      <td>180000</td>\n",
       "      <td>2</td>\n",
       "      <td>1.00</td>\n",
       "      <td>770</td>\n",
       "      <td>10000</td>\n",
       "      <td>1.0</td>\n",
       "      <td>0</td>\n",
       "      <td>0</td>\n",
       "      <td>...</td>\n",
       "      <td>6</td>\n",
       "      <td>770</td>\n",
       "      <td>0</td>\n",
       "      <td>1933</td>\n",
       "      <td>0</td>\n",
       "      <td>98028</td>\n",
       "      <td>47.7379</td>\n",
       "      <td>-122.233</td>\n",
       "      <td>2720</td>\n",
       "      <td>8062</td>\n",
       "    </tr>\n",
       "    <tr>\n",
       "      <th>3</th>\n",
       "      <td>2487200875</td>\n",
       "      <td>20141209T000000</td>\n",
       "      <td>604000</td>\n",
       "      <td>4</td>\n",
       "      <td>3.00</td>\n",
       "      <td>1960</td>\n",
       "      <td>5000</td>\n",
       "      <td>1.0</td>\n",
       "      <td>0</td>\n",
       "      <td>0</td>\n",
       "      <td>...</td>\n",
       "      <td>7</td>\n",
       "      <td>1050</td>\n",
       "      <td>910</td>\n",
       "      <td>1965</td>\n",
       "      <td>0</td>\n",
       "      <td>98136</td>\n",
       "      <td>47.5208</td>\n",
       "      <td>-122.393</td>\n",
       "      <td>1360</td>\n",
       "      <td>5000</td>\n",
       "    </tr>\n",
       "    <tr>\n",
       "      <th>4</th>\n",
       "      <td>1954400510</td>\n",
       "      <td>20150218T000000</td>\n",
       "      <td>510000</td>\n",
       "      <td>3</td>\n",
       "      <td>2.00</td>\n",
       "      <td>1680</td>\n",
       "      <td>8080</td>\n",
       "      <td>1.0</td>\n",
       "      <td>0</td>\n",
       "      <td>0</td>\n",
       "      <td>...</td>\n",
       "      <td>8</td>\n",
       "      <td>1680</td>\n",
       "      <td>0</td>\n",
       "      <td>1987</td>\n",
       "      <td>0</td>\n",
       "      <td>98074</td>\n",
       "      <td>47.6168</td>\n",
       "      <td>-122.045</td>\n",
       "      <td>1800</td>\n",
       "      <td>7503</td>\n",
       "    </tr>\n",
       "  </tbody>\n",
       "</table>\n",
       "<p>5 rows × 21 columns</p>\n",
       "</div>"
      ],
      "text/plain": [
       "           id             date   price  bedrooms  bathrooms  sqft_living  \\\n",
       "0  7129300520  20141013T000000  221900         3       1.00         1180   \n",
       "1  6414100192  20141209T000000  538000         3       2.25         2570   \n",
       "2  5631500400  20150225T000000  180000         2       1.00          770   \n",
       "3  2487200875  20141209T000000  604000         4       3.00         1960   \n",
       "4  1954400510  20150218T000000  510000         3       2.00         1680   \n",
       "\n",
       "   sqft_lot  floors  waterfront  view  ...  grade  sqft_above  sqft_basement  \\\n",
       "0      5650     1.0           0     0  ...      7        1180              0   \n",
       "1      7242     2.0           0     0  ...      7        2170            400   \n",
       "2     10000     1.0           0     0  ...      6         770              0   \n",
       "3      5000     1.0           0     0  ...      7        1050            910   \n",
       "4      8080     1.0           0     0  ...      8        1680              0   \n",
       "\n",
       "   yr_built  yr_renovated  zipcode      lat     long  sqft_living15  \\\n",
       "0      1955             0    98178  47.5112 -122.257           1340   \n",
       "1      1951          1991    98125  47.7210 -122.319           1690   \n",
       "2      1933             0    98028  47.7379 -122.233           2720   \n",
       "3      1965             0    98136  47.5208 -122.393           1360   \n",
       "4      1987             0    98074  47.6168 -122.045           1800   \n",
       "\n",
       "   sqft_lot15  \n",
       "0        5650  \n",
       "1        7639  \n",
       "2        8062  \n",
       "3        5000  \n",
       "4        7503  \n",
       "\n",
       "[5 rows x 21 columns]"
      ]
     },
     "execution_count": 29,
     "metadata": {},
     "output_type": "execute_result"
    }
   ],
   "source": [
    "house=pd.read_csv(r'C:\\Users\\gowta\\OneDrive\\Desktop\\Data Science\\assignment\\Linear Regression Assignment\\housing.csv')\n",
    "house.head()"
   ]
  },
  {
   "cell_type": "markdown",
   "id": "8fee0aa5",
   "metadata": {},
   "source": [
    "# 10. How many houses have a waterfront?\n",
    ">a. 21000\n",
    "\n",
    ">b. 21450\n",
    "\n",
    ">c. 163\n",
    "\n",
    ">d. 173\n",
    "\n",
    ">Ans: c. 163"
   ]
  },
  {
   "cell_type": "code",
   "execution_count": 45,
   "id": "a04be078",
   "metadata": {},
   "outputs": [
    {
     "data": {
      "text/plain": [
       "(163, 21)"
      ]
     },
     "execution_count": 45,
     "metadata": {},
     "output_type": "execute_result"
    }
   ],
   "source": [
    "water=(house[(house['waterfront'] == 1)])\n",
    "water.shape"
   ]
  },
  {
   "cell_type": "code",
   "execution_count": 32,
   "id": "cee6dd46",
   "metadata": {},
   "outputs": [
    {
     "data": {
      "text/plain": [
       "Index(['id', 'date', 'price', 'bedrooms', 'bathrooms', 'sqft_living',\n",
       "       'sqft_lot', 'floors', 'waterfront', 'view', 'condition', 'grade',\n",
       "       'sqft_above', 'sqft_basement', 'yr_built', 'yr_renovated', 'zipcode',\n",
       "       'lat', 'long', 'sqft_living15', 'sqft_lot15'],\n",
       "      dtype='object')"
      ]
     },
     "execution_count": 32,
     "metadata": {},
     "output_type": "execute_result"
    }
   ],
   "source": [
    "house.columns"
   ]
  },
  {
   "cell_type": "markdown",
   "id": "199d385f",
   "metadata": {},
   "source": [
    "# 11. How many houses have 2 floors?\n",
    ">a. 2692\n",
    "\n",
    ">b. 8241\n",
    "\n",
    ">c. 10680\n",
    "\n",
    ">d. 161\n",
    "\n",
    ">Ans: b. 8241"
   ]
  },
  {
   "cell_type": "code",
   "execution_count": 46,
   "id": "a26ef17d",
   "metadata": {},
   "outputs": [
    {
     "data": {
      "text/plain": [
       "(8241, 21)"
      ]
     },
     "execution_count": 46,
     "metadata": {},
     "output_type": "execute_result"
    }
   ],
   "source": [
    "floors=(house[(house['floors'] == 2)])\n",
    "floors.shape"
   ]
  },
  {
   "cell_type": "markdown",
   "id": "3ccc6078",
   "metadata": {},
   "source": [
    "# 12. How many houses built before 1960 have a waterfront?\n",
    ">a. 80\n",
    "\n",
    ">b. 7309\n",
    "\n",
    ">c. 90\n",
    "\n",
    ">d. 92\n",
    "\n",
    ">Ans: a. 80"
   ]
  },
  {
   "cell_type": "code",
   "execution_count": 47,
   "id": "b8e7169e",
   "metadata": {},
   "outputs": [
    {
     "data": {
      "text/plain": [
       "(80, 21)"
      ]
     },
     "execution_count": 47,
     "metadata": {},
     "output_type": "execute_result"
    }
   ],
   "source": [
    "built=(house[(house['yr_built'] < 1960) & (house['waterfront'] >= 1)])\n",
    "built.shape"
   ]
  },
  {
   "cell_type": "markdown",
   "id": "fd9364a5",
   "metadata": {},
   "source": [
    "# 13. What is the price of the most expensive house having more than 4 bathrooms?\n",
    ">a. 7700000\n",
    "\n",
    ">b. 187000\n",
    "\n",
    ">c. 290000\n",
    "\n",
    ">d. 399000\n",
    "\n",
    ">Ans: a. 7700000"
   ]
  },
  {
   "cell_type": "code",
   "execution_count": 71,
   "id": "62683c48",
   "metadata": {},
   "outputs": [
    {
     "data": {
      "text/plain": [
       "bathrooms\n",
       "False    4489000\n",
       "True     7700000\n",
       "Name: price, dtype: int64"
      ]
     },
     "execution_count": 71,
     "metadata": {},
     "output_type": "execute_result"
    }
   ],
   "source": [
    "room=house.groupby(house['bathrooms']>4)['price'].max()\n",
    "room"
   ]
  },
  {
   "attachments": {
    "image.png": {
     "image/png": "[encoded data removed]"
    }
   },
   "cell_type": "markdown",
   "id": "f235e933",
   "metadata": {},
   "source": [
    "# 14. The image shown below shows the boxplot of the price column from the housing dataset. What inferences can you make from the plot?\n",
    ">a. The price column is normally distributed.\n",
    "\n",
    ">b. There might be high chances of price data having null values.\n",
    "\n",
    ">c. There is a presence of outliers in the price data.\n",
    "\n",
    ">d. There is no presence of outliers in the price data.\n",
    "\n",
    "![image.png](attachment:image.png)\n",
    "\n",
    ">Ans: c. There is a presence of outliers in the price data."
   ]
  },
  {
   "cell_type": "markdown",
   "id": "6d7f8375",
   "metadata": {},
   "source": [
    "# 15. For instance, if the ‘price’ column consists of outliers, how can you make the data clean and remove the redundancies?\n",
    ">a. Calculate the IQR range and drop the values outside the range.\n",
    "\n",
    ">b. Calculate the p-value and remove the values less than 0.05.\n",
    "\n",
    ">c. Calculate the correlation coefficient of the price column and remove the values less than the correlation coefficient.\n",
    "\n",
    ">d. Calculate the Z-score of the price column and remove the values less than the z-score.\n",
    "\n",
    ">Ans: a. Calculate the IQR range and drop the values outside the range."
   ]
  },
  {
   "cell_type": "markdown",
   "id": "bedf0395",
   "metadata": {},
   "source": [
    "# 16. What are the various parameters that can be used to determine the dependent variables in the housing data to determine the price of the house?\n",
    ">a. Correlation coefficients\n",
    "\n",
    ">b. Z-score\n",
    "\n",
    ">c. IQR Range\n",
    "\n",
    ">d. Range of the Features\n",
    "\n",
    ">Ans: a. Correlation coefficients"
   ]
  },
  {
   "cell_type": "markdown",
   "id": "d4ba8775",
   "metadata": {},
   "source": [
    "# 17. If we get the r2 score as 0.38, what inferences can we make about the model and its efficiency?\n",
    ">a. The model is 38% accurate, and shows poor efficiency.\n",
    "\n",
    ">b. The model is showing 0.38% discrepancies in the outcomes.\n",
    "\n",
    ">c. Low difference between observed and fitted values.\n",
    "\n",
    ">d. High difference between observed and fitted values.\n",
    "\n",
    ">Ans: a. The model is 38% accurate, and shows poor efficiency."
   ]
  },
  {
   "cell_type": "markdown",
   "id": "203fcc4d",
   "metadata": {},
   "source": [
    "# 18. If the metrics show that the p-value for the grade column is 0.092, what all inferences can we make about the grade column?\n",
    ">a. Significant in presence of other variables.\n",
    "\n",
    ">b. Highly significant in presence of other variables\n",
    "\n",
    ">c. insignificance in presence of other variables\n",
    "\n",
    ">d. None of the above\n",
    "\n",
    ">Ans: c. insignificance in presence of other variables"
   ]
  },
  {
   "cell_type": "markdown",
   "id": "2bc73e81",
   "metadata": {},
   "source": [
    "# 19. If the Variance Inflation Factor value for a feature is considerably higher than the other features, what can we say about that column/feature?\n",
    ">a. High multicollinearity\n",
    "\n",
    ">b. Low multicollinearity\n",
    "\n",
    ">c. Both A and B\n",
    "\n",
    ">d. None of the above\n",
    "\n",
    ">Ans: a. High multicollinearity"
   ]
  },
  {
   "cell_type": "code",
   "execution_count": null,
   "id": "9109adda",
   "metadata": {},
   "outputs": [],
   "source": []
  }
 ],
 "metadata": {
  "kernelspec": {
   "display_name": "Python 3 (ipykernel)",
   "language": "python",
   "name": "python3"
  },
  "language_info": {
   "codemirror_mode": {
    "name": "ipython",
    "version": 3
   },
   "file_extension": ".py",
   "mimetype": "text/x-python",
   "name": "python",
   "nbconvert_exporter": "python",
   "pygments_lexer": "ipython3",
   "version": "3.9.7"
  }
 },
 "nbformat": 4,
 "nbformat_minor": 5
}
