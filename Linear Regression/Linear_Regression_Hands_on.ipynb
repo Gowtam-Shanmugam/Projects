{
  "nbformat": 4,
  "nbformat_minor": 0,
  "metadata": {
    "colab": {
      "name": "Linear Regression Hands on",
      "provenance": [],
      "collapsed_sections": []
    },
    "kernelspec": {
      "name": "python3",
      "display_name": "Python 3"
    },
    "language_info": {
      "name": "python"
    }
  },
  "cells": [
    {
      "cell_type": "code",
      "execution_count": null,
      "metadata": {
        "id": "P6OmcYDvt8_5"
      },
      "outputs": [],
      "source": [
        "import pandas as pd\n",
        "import numpy as np\n",
        "import matplotlib.pyplot as plt"
      ]
    },
    {
      "cell_type": "code",
      "source": [
        "insurance = pd.read_csv(\"/content/new_insurance_data.csv\")"
      ],
      "metadata": {
        "id": "SZx0e_ozwVb2"
      },
      "execution_count": null,
      "outputs": []
    },
    {
      "cell_type": "code",
      "source": [
        "insurance"
      ],
      "metadata": {
        "colab": {
          "base_uri": "https://localhost:8080/",
          "height": 488
        },
        "id": "_sCIhvQHw6rc",
        "outputId": "b93008dd-6cae-40a4-d24d-559672a8b7ad"
      },
      "execution_count": null,
      "outputs": [
        {
          "output_type": "execute_result",
          "data": {
            "text/plain": [
              "       age     sex     bmi  children smoker  Claim_Amount  past_consultations  \\\n",
              "0     18.0    male  23.210       0.0     no   29087.54313                17.0   \n",
              "1     18.0    male  30.140       0.0     no   39053.67437                 7.0   \n",
              "2     18.0    male  33.330       0.0     no   39023.62759                19.0   \n",
              "3     18.0    male  33.660       0.0     no   28185.39332                11.0   \n",
              "4     18.0    male  34.100       0.0     no   14697.85941                16.0   \n",
              "...    ...     ...     ...       ...    ...           ...                 ...   \n",
              "1333  33.0  female  35.530       0.0    yes   63142.25346                32.0   \n",
              "1334  31.0  female  38.095       1.0    yes   43419.95227                31.0   \n",
              "1335  52.0    male  34.485       3.0    yes   52458.92353                25.0   \n",
              "1336  45.0    male  30.360       0.0    yes   69927.51664                34.0   \n",
              "1337  54.0  female  47.410       0.0    yes   63982.80926                31.0   \n",
              "\n",
              "      num_of_steps  Hospital_expenditure  NUmber_of_past_hospitalizations  \\\n",
              "0         715428.0          4.720921e+06                              0.0   \n",
              "1         699157.0          4.329832e+06                              0.0   \n",
              "2         702341.0          6.884861e+06                              0.0   \n",
              "3         700250.0          4.274774e+06                              0.0   \n",
              "4         711584.0          3.787294e+06                              0.0   \n",
              "...            ...                   ...                              ...   \n",
              "1333     1091267.0          1.703805e+08                              2.0   \n",
              "1334     1107872.0          2.015152e+08                              2.0   \n",
              "1335     1092005.0          2.236450e+08                              2.0   \n",
              "1336     1106821.0          2.528924e+08                              3.0   \n",
              "1337     1100328.0          2.616317e+08                              3.0   \n",
              "\n",
              "      Anual_Salary     region      charges  \n",
              "0     5.578497e+07  southeast   1121.87390  \n",
              "1     1.370089e+07  southeast   1131.50660  \n",
              "2     7.352311e+07  southeast   1135.94070  \n",
              "3     7.581968e+07  southeast   1136.39940  \n",
              "4     2.301232e+07  southeast   1137.01100  \n",
              "...            ...        ...          ...  \n",
              "1333  3.101107e+09  northwest  55135.40209  \n",
              "1334  3.484216e+09  northeast  58571.07448  \n",
              "1335  3.640807e+09  northwest  60021.39897  \n",
              "1336  4.006359e+09  southeast  62592.87309  \n",
              "1337  4.117197e+09  southeast  63770.42801  \n",
              "\n",
              "[1338 rows x 13 columns]"
            ],
            "text/html": [
              "\n",
              "  <div id=\"df-1003e68f-cb39-4ac9-a49c-a0e5fbae6d9b\">\n",
              "    <div class=\"colab-df-container\">\n",
              "      <div>\n",
              "<style scoped>\n",
              "    .dataframe tbody tr th:only-of-type {\n",
              "        vertical-align: middle;\n",
              "    }\n",
              "\n",
              "    .dataframe tbody tr th {\n",
              "        vertical-align: top;\n",
              "    }\n",
              "\n",
              "    .dataframe thead th {\n",
              "        text-align: right;\n",
              "    }\n",
              "</style>\n",
              "<table border=\"1\" class=\"dataframe\">\n",
              "  <thead>\n",
              "    <tr style=\"text-align: right;\">\n",
              "      <th></th>\n",
              "      <th>age</th>\n",
              "      <th>sex</th>\n",
              "      <th>bmi</th>\n",
              "      <th>children</th>\n",
              "      <th>smoker</th>\n",
              "      <th>Claim_Amount</th>\n",
              "      <th>past_consultations</th>\n",
              "      <th>num_of_steps</th>\n",
              "      <th>Hospital_expenditure</th>\n",
              "      <th>NUmber_of_past_hospitalizations</th>\n",
              "      <th>Anual_Salary</th>\n",
              "      <th>region</th>\n",
              "      <th>charges</th>\n",
              "    </tr>\n",
              "  </thead>\n",
              "  <tbody>\n",
              "    <tr>\n",
              "      <th>0</th>\n",
              "      <td>18.0</td>\n",
              "      <td>male</td>\n",
              "      <td>23.210</td>\n",
              "      <td>0.0</td>\n",
              "      <td>no</td>\n",
              "      <td>29087.54313</td>\n",
              "      <td>17.0</td>\n",
              "      <td>715428.0</td>\n",
              "      <td>4.720921e+06</td>\n",
              "      <td>0.0</td>\n",
              "      <td>5.578497e+07</td>\n",
              "      <td>southeast</td>\n",
              "      <td>1121.87390</td>\n",
              "    </tr>\n",
              "    <tr>\n",
              "      <th>1</th>\n",
              "      <td>18.0</td>\n",
              "      <td>male</td>\n",
              "      <td>30.140</td>\n",
              "      <td>0.0</td>\n",
              "      <td>no</td>\n",
              "      <td>39053.67437</td>\n",
              "      <td>7.0</td>\n",
              "      <td>699157.0</td>\n",
              "      <td>4.329832e+06</td>\n",
              "      <td>0.0</td>\n",
              "      <td>1.370089e+07</td>\n",
              "      <td>southeast</td>\n",
              "      <td>1131.50660</td>\n",
              "    </tr>\n",
              "    <tr>\n",
              "      <th>2</th>\n",
              "      <td>18.0</td>\n",
              "      <td>male</td>\n",
              "      <td>33.330</td>\n",
              "      <td>0.0</td>\n",
              "      <td>no</td>\n",
              "      <td>39023.62759</td>\n",
              "      <td>19.0</td>\n",
              "      <td>702341.0</td>\n",
              "      <td>6.884861e+06</td>\n",
              "      <td>0.0</td>\n",
              "      <td>7.352311e+07</td>\n",
              "      <td>southeast</td>\n",
              "      <td>1135.94070</td>\n",
              "    </tr>\n",
              "    <tr>\n",
              "      <th>3</th>\n",
              "      <td>18.0</td>\n",
              "      <td>male</td>\n",
              "      <td>33.660</td>\n",
              "      <td>0.0</td>\n",
              "      <td>no</td>\n",
              "      <td>28185.39332</td>\n",
              "      <td>11.0</td>\n",
              "      <td>700250.0</td>\n",
              "      <td>4.274774e+06</td>\n",
              "      <td>0.0</td>\n",
              "      <td>7.581968e+07</td>\n",
              "      <td>southeast</td>\n",
              "      <td>1136.39940</td>\n",
              "    </tr>\n",
              "    <tr>\n",
              "      <th>4</th>\n",
              "      <td>18.0</td>\n",
              "      <td>male</td>\n",
              "      <td>34.100</td>\n",
              "      <td>0.0</td>\n",
              "      <td>no</td>\n",
              "      <td>14697.85941</td>\n",
              "      <td>16.0</td>\n",
              "      <td>711584.0</td>\n",
              "      <td>3.787294e+06</td>\n",
              "      <td>0.0</td>\n",
              "      <td>2.301232e+07</td>\n",
              "      <td>southeast</td>\n",
              "      <td>1137.01100</td>\n",
              "    </tr>\n",
              "    <tr>\n",
              "      <th>...</th>\n",
              "      <td>...</td>\n",
              "      <td>...</td>\n",
              "      <td>...</td>\n",
              "      <td>...</td>\n",
              "      <td>...</td>\n",
              "      <td>...</td>\n",
              "      <td>...</td>\n",
              "      <td>...</td>\n",
              "      <td>...</td>\n",
              "      <td>...</td>\n",
              "      <td>...</td>\n",
              "      <td>...</td>\n",
              "      <td>...</td>\n",
              "    </tr>\n",
              "    <tr>\n",
              "      <th>1333</th>\n",
              "      <td>33.0</td>\n",
              "      <td>female</td>\n",
              "      <td>35.530</td>\n",
              "      <td>0.0</td>\n",
              "      <td>yes</td>\n",
              "      <td>63142.25346</td>\n",
              "      <td>32.0</td>\n",
              "      <td>1091267.0</td>\n",
              "      <td>1.703805e+08</td>\n",
              "      <td>2.0</td>\n",
              "      <td>3.101107e+09</td>\n",
              "      <td>northwest</td>\n",
              "      <td>55135.40209</td>\n",
              "    </tr>\n",
              "    <tr>\n",
              "      <th>1334</th>\n",
              "      <td>31.0</td>\n",
              "      <td>female</td>\n",
              "      <td>38.095</td>\n",
              "      <td>1.0</td>\n",
              "      <td>yes</td>\n",
              "      <td>43419.95227</td>\n",
              "      <td>31.0</td>\n",
              "      <td>1107872.0</td>\n",
              "      <td>2.015152e+08</td>\n",
              "      <td>2.0</td>\n",
              "      <td>3.484216e+09</td>\n",
              "      <td>northeast</td>\n",
              "      <td>58571.07448</td>\n",
              "    </tr>\n",
              "    <tr>\n",
              "      <th>1335</th>\n",
              "      <td>52.0</td>\n",
              "      <td>male</td>\n",
              "      <td>34.485</td>\n",
              "      <td>3.0</td>\n",
              "      <td>yes</td>\n",
              "      <td>52458.92353</td>\n",
              "      <td>25.0</td>\n",
              "      <td>1092005.0</td>\n",
              "      <td>2.236450e+08</td>\n",
              "      <td>2.0</td>\n",
              "      <td>3.640807e+09</td>\n",
              "      <td>northwest</td>\n",
              "      <td>60021.39897</td>\n",
              "    </tr>\n",
              "    <tr>\n",
              "      <th>1336</th>\n",
              "      <td>45.0</td>\n",
              "      <td>male</td>\n",
              "      <td>30.360</td>\n",
              "      <td>0.0</td>\n",
              "      <td>yes</td>\n",
              "      <td>69927.51664</td>\n",
              "      <td>34.0</td>\n",
              "      <td>1106821.0</td>\n",
              "      <td>2.528924e+08</td>\n",
              "      <td>3.0</td>\n",
              "      <td>4.006359e+09</td>\n",
              "      <td>southeast</td>\n",
              "      <td>62592.87309</td>\n",
              "    </tr>\n",
              "    <tr>\n",
              "      <th>1337</th>\n",
              "      <td>54.0</td>\n",
              "      <td>female</td>\n",
              "      <td>47.410</td>\n",
              "      <td>0.0</td>\n",
              "      <td>yes</td>\n",
              "      <td>63982.80926</td>\n",
              "      <td>31.0</td>\n",
              "      <td>1100328.0</td>\n",
              "      <td>2.616317e+08</td>\n",
              "      <td>3.0</td>\n",
              "      <td>4.117197e+09</td>\n",
              "      <td>southeast</td>\n",
              "      <td>63770.42801</td>\n",
              "    </tr>\n",
              "  </tbody>\n",
              "</table>\n",
              "<p>1338 rows × 13 columns</p>\n",
              "</div>\n",
              "      <button class=\"colab-df-convert\" onclick=\"convertToInteractive('df-1003e68f-cb39-4ac9-a49c-a0e5fbae6d9b')\"\n",
              "              title=\"Convert this dataframe to an interactive table.\"\n",
              "              style=\"display:none;\">\n",
              "        \n",
              "  <svg xmlns=\"http://www.w3.org/2000/svg\" height=\"24px\"viewBox=\"0 0 24 24\"\n",
              "       width=\"24px\">\n",
              "    <path d=\"M0 0h24v24H0V0z\" fill=\"none\"/>\n",
              "    <path d=\"M18.56 5.44l.94 2.06.94-2.06 2.06-.94-2.06-.94-.94-2.06-.94 2.06-2.06.94zm-11 1L8.5 8.5l.94-2.06 2.06-.94-2.06-.94L8.5 2.5l-.94 2.06-2.06.94zm10 10l.94 2.06.94-2.06 2.06-.94-2.06-.94-.94-2.06-.94 2.06-2.06.94z\"/><path d=\"M17.41 7.96l-1.37-1.37c-.4-.4-.92-.59-1.43-.59-.52 0-1.04.2-1.43.59L10.3 9.45l-7.72 7.72c-.78.78-.78 2.05 0 2.83L4 21.41c.39.39.9.59 1.41.59.51 0 1.02-.2 1.41-.59l7.78-7.78 2.81-2.81c.8-.78.8-2.07 0-2.86zM5.41 20L4 18.59l7.72-7.72 1.47 1.35L5.41 20z\"/>\n",
              "  </svg>\n",
              "      </button>\n",
              "      \n",
              "  <style>\n",
              "    .colab-df-container {\n",
              "      display:flex;\n",
              "      flex-wrap:wrap;\n",
              "      gap: 12px;\n",
              "    }\n",
              "\n",
              "    .colab-df-convert {\n",
              "      background-color: #E8F0FE;\n",
              "      border: none;\n",
              "      border-radius: 50%;\n",
              "      cursor: pointer;\n",
              "      display: none;\n",
              "      fill: #1967D2;\n",
              "      height: 32px;\n",
              "      padding: 0 0 0 0;\n",
              "      width: 32px;\n",
              "    }\n",
              "\n",
              "    .colab-df-convert:hover {\n",
              "      background-color: #E2EBFA;\n",
              "      box-shadow: 0px 1px 2px rgba(60, 64, 67, 0.3), 0px 1px 3px 1px rgba(60, 64, 67, 0.15);\n",
              "      fill: #174EA6;\n",
              "    }\n",
              "\n",
              "    [theme=dark] .colab-df-convert {\n",
              "      background-color: #3B4455;\n",
              "      fill: #D2E3FC;\n",
              "    }\n",
              "\n",
              "    [theme=dark] .colab-df-convert:hover {\n",
              "      background-color: #434B5C;\n",
              "      box-shadow: 0px 1px 3px 1px rgba(0, 0, 0, 0.15);\n",
              "      filter: drop-shadow(0px 1px 2px rgba(0, 0, 0, 0.3));\n",
              "      fill: #FFFFFF;\n",
              "    }\n",
              "  </style>\n",
              "\n",
              "      <script>\n",
              "        const buttonEl =\n",
              "          document.querySelector('#df-1003e68f-cb39-4ac9-a49c-a0e5fbae6d9b button.colab-df-convert');\n",
              "        buttonEl.style.display =\n",
              "          google.colab.kernel.accessAllowed ? 'block' : 'none';\n",
              "\n",
              "        async function convertToInteractive(key) {\n",
              "          const element = document.querySelector('#df-1003e68f-cb39-4ac9-a49c-a0e5fbae6d9b');\n",
              "          const dataTable =\n",
              "            await google.colab.kernel.invokeFunction('convertToInteractive',\n",
              "                                                     [key], {});\n",
              "          if (!dataTable) return;\n",
              "\n",
              "          const docLinkHtml = 'Like what you see? Visit the ' +\n",
              "            '<a target=\"_blank\" href=https://colab.research.google.com/notebooks/data_table.ipynb>data table notebook</a>'\n",
              "            + ' to learn more about interactive tables.';\n",
              "          element.innerHTML = '';\n",
              "          dataTable['output_type'] = 'display_data';\n",
              "          await google.colab.output.renderOutput(dataTable, element);\n",
              "          const docLink = document.createElement('div');\n",
              "          docLink.innerHTML = docLinkHtml;\n",
              "          element.appendChild(docLink);\n",
              "        }\n",
              "      </script>\n",
              "    </div>\n",
              "  </div>\n",
              "  "
            ]
          },
          "metadata": {},
          "execution_count": 54
        }
      ]
    },
    {
      "cell_type": "code",
      "source": [
        "insurance.head(5)"
      ],
      "metadata": {
        "colab": {
          "base_uri": "https://localhost:8080/",
          "height": 270
        },
        "id": "hlu3bV10w7wD",
        "outputId": "2e82ffec-f4ef-4cd0-fc13-e8c706716b39"
      },
      "execution_count": null,
      "outputs": [
        {
          "output_type": "execute_result",
          "data": {
            "text/plain": [
              "    age   sex    bmi  children smoker  Claim_Amount  past_consultations  \\\n",
              "0  18.0  male  23.21       0.0     no   29087.54313                17.0   \n",
              "1  18.0  male  30.14       0.0     no   39053.67437                 7.0   \n",
              "2  18.0  male  33.33       0.0     no   39023.62759                19.0   \n",
              "3  18.0  male  33.66       0.0     no   28185.39332                11.0   \n",
              "4  18.0  male  34.10       0.0     no   14697.85941                16.0   \n",
              "\n",
              "   num_of_steps  Hospital_expenditure  NUmber_of_past_hospitalizations  \\\n",
              "0      715428.0           4720920.992                              0.0   \n",
              "1      699157.0           4329831.676                              0.0   \n",
              "2      702341.0           6884860.774                              0.0   \n",
              "3      700250.0           4274773.550                              0.0   \n",
              "4      711584.0           3787293.921                              0.0   \n",
              "\n",
              "   Anual_Salary     region    charges  \n",
              "0   55784970.05  southeast  1121.8739  \n",
              "1   13700885.19  southeast  1131.5066  \n",
              "2   73523107.27  southeast  1135.9407  \n",
              "3   75819679.60  southeast  1136.3994  \n",
              "4   23012320.01  southeast  1137.0110  "
            ],
            "text/html": [
              "\n",
              "  <div id=\"df-6d905bba-493f-4840-a86d-8f8442d8f8fe\">\n",
              "    <div class=\"colab-df-container\">\n",
              "      <div>\n",
              "<style scoped>\n",
              "    .dataframe tbody tr th:only-of-type {\n",
              "        vertical-align: middle;\n",
              "    }\n",
              "\n",
              "    .dataframe tbody tr th {\n",
              "        vertical-align: top;\n",
              "    }\n",
              "\n",
              "    .dataframe thead th {\n",
              "        text-align: right;\n",
              "    }\n",
              "</style>\n",
              "<table border=\"1\" class=\"dataframe\">\n",
              "  <thead>\n",
              "    <tr style=\"text-align: right;\">\n",
              "      <th></th>\n",
              "      <th>age</th>\n",
              "      <th>sex</th>\n",
              "      <th>bmi</th>\n",
              "      <th>children</th>\n",
              "      <th>smoker</th>\n",
              "      <th>Claim_Amount</th>\n",
              "      <th>past_consultations</th>\n",
              "      <th>num_of_steps</th>\n",
              "      <th>Hospital_expenditure</th>\n",
              "      <th>NUmber_of_past_hospitalizations</th>\n",
              "      <th>Anual_Salary</th>\n",
              "      <th>region</th>\n",
              "      <th>charges</th>\n",
              "    </tr>\n",
              "  </thead>\n",
              "  <tbody>\n",
              "    <tr>\n",
              "      <th>0</th>\n",
              "      <td>18.0</td>\n",
              "      <td>male</td>\n",
              "      <td>23.21</td>\n",
              "      <td>0.0</td>\n",
              "      <td>no</td>\n",
              "      <td>29087.54313</td>\n",
              "      <td>17.0</td>\n",
              "      <td>715428.0</td>\n",
              "      <td>4720920.992</td>\n",
              "      <td>0.0</td>\n",
              "      <td>55784970.05</td>\n",
              "      <td>southeast</td>\n",
              "      <td>1121.8739</td>\n",
              "    </tr>\n",
              "    <tr>\n",
              "      <th>1</th>\n",
              "      <td>18.0</td>\n",
              "      <td>male</td>\n",
              "      <td>30.14</td>\n",
              "      <td>0.0</td>\n",
              "      <td>no</td>\n",
              "      <td>39053.67437</td>\n",
              "      <td>7.0</td>\n",
              "      <td>699157.0</td>\n",
              "      <td>4329831.676</td>\n",
              "      <td>0.0</td>\n",
              "      <td>13700885.19</td>\n",
              "      <td>southeast</td>\n",
              "      <td>1131.5066</td>\n",
              "    </tr>\n",
              "    <tr>\n",
              "      <th>2</th>\n",
              "      <td>18.0</td>\n",
              "      <td>male</td>\n",
              "      <td>33.33</td>\n",
              "      <td>0.0</td>\n",
              "      <td>no</td>\n",
              "      <td>39023.62759</td>\n",
              "      <td>19.0</td>\n",
              "      <td>702341.0</td>\n",
              "      <td>6884860.774</td>\n",
              "      <td>0.0</td>\n",
              "      <td>73523107.27</td>\n",
              "      <td>southeast</td>\n",
              "      <td>1135.9407</td>\n",
              "    </tr>\n",
              "    <tr>\n",
              "      <th>3</th>\n",
              "      <td>18.0</td>\n",
              "      <td>male</td>\n",
              "      <td>33.66</td>\n",
              "      <td>0.0</td>\n",
              "      <td>no</td>\n",
              "      <td>28185.39332</td>\n",
              "      <td>11.0</td>\n",
              "      <td>700250.0</td>\n",
              "      <td>4274773.550</td>\n",
              "      <td>0.0</td>\n",
              "      <td>75819679.60</td>\n",
              "      <td>southeast</td>\n",
              "      <td>1136.3994</td>\n",
              "    </tr>\n",
              "    <tr>\n",
              "      <th>4</th>\n",
              "      <td>18.0</td>\n",
              "      <td>male</td>\n",
              "      <td>34.10</td>\n",
              "      <td>0.0</td>\n",
              "      <td>no</td>\n",
              "      <td>14697.85941</td>\n",
              "      <td>16.0</td>\n",
              "      <td>711584.0</td>\n",
              "      <td>3787293.921</td>\n",
              "      <td>0.0</td>\n",
              "      <td>23012320.01</td>\n",
              "      <td>southeast</td>\n",
              "      <td>1137.0110</td>\n",
              "    </tr>\n",
              "  </tbody>\n",
              "</table>\n",
              "</div>\n",
              "      <button class=\"colab-df-convert\" onclick=\"convertToInteractive('df-6d905bba-493f-4840-a86d-8f8442d8f8fe')\"\n",
              "              title=\"Convert this dataframe to an interactive table.\"\n",
              "              style=\"display:none;\">\n",
              "        \n",
              "  <svg xmlns=\"http://www.w3.org/2000/svg\" height=\"24px\"viewBox=\"0 0 24 24\"\n",
              "       width=\"24px\">\n",
              "    <path d=\"M0 0h24v24H0V0z\" fill=\"none\"/>\n",
              "    <path d=\"M18.56 5.44l.94 2.06.94-2.06 2.06-.94-2.06-.94-.94-2.06-.94 2.06-2.06.94zm-11 1L8.5 8.5l.94-2.06 2.06-.94-2.06-.94L8.5 2.5l-.94 2.06-2.06.94zm10 10l.94 2.06.94-2.06 2.06-.94-2.06-.94-.94-2.06-.94 2.06-2.06.94z\"/><path d=\"M17.41 7.96l-1.37-1.37c-.4-.4-.92-.59-1.43-.59-.52 0-1.04.2-1.43.59L10.3 9.45l-7.72 7.72c-.78.78-.78 2.05 0 2.83L4 21.41c.39.39.9.59 1.41.59.51 0 1.02-.2 1.41-.59l7.78-7.78 2.81-2.81c.8-.78.8-2.07 0-2.86zM5.41 20L4 18.59l7.72-7.72 1.47 1.35L5.41 20z\"/>\n",
              "  </svg>\n",
              "      </button>\n",
              "      \n",
              "  <style>\n",
              "    .colab-df-container {\n",
              "      display:flex;\n",
              "      flex-wrap:wrap;\n",
              "      gap: 12px;\n",
              "    }\n",
              "\n",
              "    .colab-df-convert {\n",
              "      background-color: #E8F0FE;\n",
              "      border: none;\n",
              "      border-radius: 50%;\n",
              "      cursor: pointer;\n",
              "      display: none;\n",
              "      fill: #1967D2;\n",
              "      height: 32px;\n",
              "      padding: 0 0 0 0;\n",
              "      width: 32px;\n",
              "    }\n",
              "\n",
              "    .colab-df-convert:hover {\n",
              "      background-color: #E2EBFA;\n",
              "      box-shadow: 0px 1px 2px rgba(60, 64, 67, 0.3), 0px 1px 3px 1px rgba(60, 64, 67, 0.15);\n",
              "      fill: #174EA6;\n",
              "    }\n",
              "\n",
              "    [theme=dark] .colab-df-convert {\n",
              "      background-color: #3B4455;\n",
              "      fill: #D2E3FC;\n",
              "    }\n",
              "\n",
              "    [theme=dark] .colab-df-convert:hover {\n",
              "      background-color: #434B5C;\n",
              "      box-shadow: 0px 1px 3px 1px rgba(0, 0, 0, 0.15);\n",
              "      filter: drop-shadow(0px 1px 2px rgba(0, 0, 0, 0.3));\n",
              "      fill: #FFFFFF;\n",
              "    }\n",
              "  </style>\n",
              "\n",
              "      <script>\n",
              "        const buttonEl =\n",
              "          document.querySelector('#df-6d905bba-493f-4840-a86d-8f8442d8f8fe button.colab-df-convert');\n",
              "        buttonEl.style.display =\n",
              "          google.colab.kernel.accessAllowed ? 'block' : 'none';\n",
              "\n",
              "        async function convertToInteractive(key) {\n",
              "          const element = document.querySelector('#df-6d905bba-493f-4840-a86d-8f8442d8f8fe');\n",
              "          const dataTable =\n",
              "            await google.colab.kernel.invokeFunction('convertToInteractive',\n",
              "                                                     [key], {});\n",
              "          if (!dataTable) return;\n",
              "\n",
              "          const docLinkHtml = 'Like what you see? Visit the ' +\n",
              "            '<a target=\"_blank\" href=https://colab.research.google.com/notebooks/data_table.ipynb>data table notebook</a>'\n",
              "            + ' to learn more about interactive tables.';\n",
              "          element.innerHTML = '';\n",
              "          dataTable['output_type'] = 'display_data';\n",
              "          await google.colab.output.renderOutput(dataTable, element);\n",
              "          const docLink = document.createElement('div');\n",
              "          docLink.innerHTML = docLinkHtml;\n",
              "          element.appendChild(docLink);\n",
              "        }\n",
              "      </script>\n",
              "    </div>\n",
              "  </div>\n",
              "  "
            ]
          },
          "metadata": {},
          "execution_count": 55
        }
      ]
    },
    {
      "cell_type": "code",
      "source": [
        "insurance.shape"
      ],
      "metadata": {
        "colab": {
          "base_uri": "https://localhost:8080/"
        },
        "id": "He1deCaMxPWV",
        "outputId": "3a0c1fc4-827f-415e-c887-b8b89cddb503"
      },
      "execution_count": null,
      "outputs": [
        {
          "output_type": "execute_result",
          "data": {
            "text/plain": [
              "(1338, 13)"
            ]
          },
          "metadata": {},
          "execution_count": 56
        }
      ]
    },
    {
      "cell_type": "code",
      "source": [
        "insurance.info()"
      ],
      "metadata": {
        "colab": {
          "base_uri": "https://localhost:8080/"
        },
        "id": "n9xddwxPxdGc",
        "outputId": "cee7393f-48df-426f-c69f-84c0ecbc8b57"
      },
      "execution_count": null,
      "outputs": [
        {
          "output_type": "stream",
          "name": "stdout",
          "text": [
            "<class 'pandas.core.frame.DataFrame'>\n",
            "RangeIndex: 1338 entries, 0 to 1337\n",
            "Data columns (total 13 columns):\n",
            " #   Column                           Non-Null Count  Dtype  \n",
            "---  ------                           --------------  -----  \n",
            " 0   age                              1329 non-null   float64\n",
            " 1   sex                              1338 non-null   object \n",
            " 2   bmi                              1335 non-null   float64\n",
            " 3   children                         1333 non-null   float64\n",
            " 4   smoker                           1338 non-null   object \n",
            " 5   Claim_Amount                     1324 non-null   float64\n",
            " 6   past_consultations               1332 non-null   float64\n",
            " 7   num_of_steps                     1335 non-null   float64\n",
            " 8   Hospital_expenditure             1334 non-null   float64\n",
            " 9   NUmber_of_past_hospitalizations  1336 non-null   float64\n",
            " 10  Anual_Salary                     1332 non-null   float64\n",
            " 11  region                           1338 non-null   object \n",
            " 12  charges                          1338 non-null   float64\n",
            "dtypes: float64(10), object(3)\n",
            "memory usage: 136.0+ KB\n"
          ]
        }
      ]
    },
    {
      "cell_type": "code",
      "source": [
        "insurance.dtypes"
      ],
      "metadata": {
        "colab": {
          "base_uri": "https://localhost:8080/"
        },
        "id": "eriSHCyjxjPB",
        "outputId": "4e0a2678-6a7d-4f7f-fb2b-6605312a8548"
      },
      "execution_count": null,
      "outputs": [
        {
          "output_type": "execute_result",
          "data": {
            "text/plain": [
              "age                                float64\n",
              "sex                                 object\n",
              "bmi                                float64\n",
              "children                           float64\n",
              "smoker                              object\n",
              "Claim_Amount                       float64\n",
              "past_consultations                 float64\n",
              "num_of_steps                       float64\n",
              "Hospital_expenditure               float64\n",
              "NUmber_of_past_hospitalizations    float64\n",
              "Anual_Salary                       float64\n",
              "region                              object\n",
              "charges                            float64\n",
              "dtype: object"
            ]
          },
          "metadata": {},
          "execution_count": 58
        }
      ]
    },
    {
      "cell_type": "code",
      "source": [
        "insurance.columns"
      ],
      "metadata": {
        "colab": {
          "base_uri": "https://localhost:8080/"
        },
        "id": "9LWVsZFgxyCg",
        "outputId": "a8d44555-6a4f-4063-f0c6-8aa7f35fdff6"
      },
      "execution_count": null,
      "outputs": [
        {
          "output_type": "execute_result",
          "data": {
            "text/plain": [
              "Index(['age', 'sex', 'bmi', 'children', 'smoker', 'Claim_Amount',\n",
              "       'past_consultations', 'num_of_steps', 'Hospital_expenditure',\n",
              "       'NUmber_of_past_hospitalizations', 'Anual_Salary', 'region', 'charges'],\n",
              "      dtype='object')"
            ]
          },
          "metadata": {},
          "execution_count": 59
        }
      ]
    },
    {
      "cell_type": "code",
      "source": [
        "\n",
        "# checking the missing values\n",
        "insurance.isnull().sum()"
      ],
      "metadata": {
        "colab": {
          "base_uri": "https://localhost:8080/"
        },
        "id": "rnX0UZcZx9jj",
        "outputId": "9c563d19-1295-41fe-9c46-5284a7de0482"
      },
      "execution_count": null,
      "outputs": [
        {
          "output_type": "execute_result",
          "data": {
            "text/plain": [
              "age                                 9\n",
              "sex                                 0\n",
              "bmi                                 3\n",
              "children                            5\n",
              "smoker                              0\n",
              "Claim_Amount                       14\n",
              "past_consultations                  6\n",
              "num_of_steps                        3\n",
              "Hospital_expenditure                4\n",
              "NUmber_of_past_hospitalizations     2\n",
              "Anual_Salary                        6\n",
              "region                              0\n",
              "charges                             0\n",
              "dtype: int64"
            ]
          },
          "metadata": {},
          "execution_count": 60
        }
      ]
    },
    {
      "cell_type": "code",
      "source": [
        "# now we are going to fill the missing values-"
      ],
      "metadata": {
        "id": "ZZHmsz7WynCw"
      },
      "execution_count": null,
      "outputs": []
    },
    {
      "cell_type": "code",
      "source": [
        "col = list(insurance.columns)"
      ],
      "metadata": {
        "id": "cIVI9gAD05RD"
      },
      "execution_count": null,
      "outputs": []
    },
    {
      "cell_type": "code",
      "source": [
        "col"
      ],
      "metadata": {
        "colab": {
          "base_uri": "https://localhost:8080/"
        },
        "id": "jtpSBsmz09N6",
        "outputId": "9cbeec89-6867-4dfc-bd8e-8de481f657c4"
      },
      "execution_count": null,
      "outputs": [
        {
          "output_type": "execute_result",
          "data": {
            "text/plain": [
              "['age',\n",
              " 'sex',\n",
              " 'bmi',\n",
              " 'children',\n",
              " 'smoker',\n",
              " 'Claim_Amount',\n",
              " 'past_consultations',\n",
              " 'num_of_steps',\n",
              " 'Hospital_expenditure',\n",
              " 'NUmber_of_past_hospitalizations',\n",
              " 'Anual_Salary',\n",
              " 'region',\n",
              " 'charges']"
            ]
          },
          "metadata": {},
          "execution_count": 63
        }
      ]
    },
    {
      "cell_type": "code",
      "source": [
        "for col_name in col:\n",
        "  if insurance[col_name].dtypes =='object':\n",
        "    insurance[col_name] = insurance[col_name].fillna(insurance[col_name].mode()[0])\n",
        "  \n",
        "  else:\n",
        "    insurance[col_name] = insurance[col_name].fillna(insurance[col_name].median())\n"
      ],
      "metadata": {
        "id": "-kGuj5nW0_9-"
      },
      "execution_count": null,
      "outputs": []
    },
    {
      "cell_type": "code",
      "source": [
        "insurance.isna().sum()"
      ],
      "metadata": {
        "colab": {
          "base_uri": "https://localhost:8080/"
        },
        "id": "nhywUfWS3CMr",
        "outputId": "47f367b5-c213-4700-d3e6-067d80090da5"
      },
      "execution_count": null,
      "outputs": [
        {
          "output_type": "execute_result",
          "data": {
            "text/plain": [
              "age                                0\n",
              "sex                                0\n",
              "bmi                                0\n",
              "children                           0\n",
              "smoker                             0\n",
              "Claim_Amount                       0\n",
              "past_consultations                 0\n",
              "num_of_steps                       0\n",
              "Hospital_expenditure               0\n",
              "NUmber_of_past_hospitalizations    0\n",
              "Anual_Salary                       0\n",
              "region                             0\n",
              "charges                            0\n",
              "dtype: int64"
            ]
          },
          "metadata": {},
          "execution_count": 65
        }
      ]
    },
    {
      "cell_type": "code",
      "source": [
        "# explanation of mode\n",
        "insurance['smoker'].mode()[0]"
      ],
      "metadata": {
        "colab": {
          "base_uri": "https://localhost:8080/",
          "height": 35
        },
        "id": "7EcYmQOH3IX4",
        "outputId": "f1775bb5-ee0c-4050-abfa-7842e86977c4"
      },
      "execution_count": null,
      "outputs": [
        {
          "output_type": "execute_result",
          "data": {
            "text/plain": [
              "'no'"
            ],
            "application/vnd.google.colaboratory.intrinsic+json": {
              "type": "string"
            }
          },
          "metadata": {},
          "execution_count": 66
        }
      ]
    },
    {
      "cell_type": "code",
      "source": [
        ""
      ],
      "metadata": {
        "id": "7BeUQt-J4HCb"
      },
      "execution_count": null,
      "outputs": []
    },
    {
      "cell_type": "markdown",
      "source": [
        "**# Outliers Removal Process**"
      ],
      "metadata": {
        "id": "8WUK0mNd5bLo"
      }
    },
    {
      "cell_type": "code",
      "source": [
        "for col_name in col:\n",
        "  if(insurance[col_name].dtypes=='int64' or insurance[col_name].dtypes=='float64'):\n",
        "    plt.boxplot(insurance[col_name])\n",
        "    plt.xlabel(col_name)\n",
        "    plt.ylabel(\"count\")\n",
        "    plt.show()"
      ],
      "metadata": {
        "colab": {
          "base_uri": "https://localhost:8080/",
          "height": 1000
        },
        "id": "kVfsw9vi5fky",
        "outputId": "a77449f7-a12a-4807-a9f1-1630fd68156a"
      },
      "execution_count": null,
      "outputs": [
        {
          "output_type": "display_data",
          "data": {
            "text/plain": [
              "<Figure size 432x288 with 1 Axes>"
            ],
            "image/png": "[encoded data removed]"
          },
          "metadata": {
            "needs_background": "light"
          }
        },
        {
          "output_type": "display_data",
          "data": {
            "text/plain": [
              "<Figure size 432x288 with 1 Axes>"
            ],
            "image/png": "[encoded data removed]"
          },
          "metadata": {
            "needs_background": "light"
          }
        },
        {
          "output_type": "display_data",
          "data": {
            "text/plain": [
              "<Figure size 432x288 with 1 Axes>"
            ],
            "image/png": "[encoded data removed]"
          },
          "metadata": {
            "needs_background": "light"
          }
        },
        {
          "output_type": "display_data",
          "data": {
            "text/plain": [
              "<Figure size 432x288 with 1 Axes>"
            ],
            "image/png": "[encoded data removed]"
          },
          "metadata": {
            "needs_background": "light"
          }
        },
        {
          "output_type": "display_data",
          "data": {
            "text/plain": [
              "<Figure size 432x288 with 1 Axes>"
            ],
            "image/png": "[encoded data removed]"
          },
          "metadata": {
            "needs_background": "light"
          }
        },
        {
          "output_type": "display_data",
          "data": {
            "text/plain": [
              "<Figure size 432x288 with 1 Axes>"
            ],
            "image/png": "[encoded data removed]"
          },
          "metadata": {
            "needs_background": "light"
          }
        },
        {
          "output_type": "display_data",
          "data": {
            "text/plain": [
              "<Figure size 432x288 with 1 Axes>"
            ],
            "image/png": "[encoded data removed]"
          },
          "metadata": {
            "needs_background": "light"
          }
        },
        {
          "output_type": "display_data",
          "data": {
            "text/plain": [
              "<Figure size 432x288 with 1 Axes>"
            ],
            "image/png": "[encoded data removed]"
          },
          "metadata": {
            "needs_background": "light"
          }
        },
        {
          "output_type": "display_data",
          "data": {
            "text/plain": [
              "<Figure size 432x288 with 1 Axes>"
            ],
            "image/png": "[encoded data removed]"
          },
          "metadata": {
            "needs_background": "light"
          }
        },
        {
          "output_type": "display_data",
          "data": {
            "text/plain": [
              "<Figure size 432x288 with 1 Axes>"
            ],
            "image/png": "[encoded data removed]"
          },
          "metadata": {
            "needs_background": "light"
          }
        }
      ]
    },
    {
      "cell_type": "code",
      "source": [
        "# note - refer it for box plot --- https://prnt.sc/FHio_9P88_8T"
      ],
      "metadata": {
        "id": "3L7XAleG6Iuq"
      },
      "execution_count": null,
      "outputs": []
    },
    {
      "cell_type": "code",
      "source": [
        "# now we are handling the outlier"
      ],
      "metadata": {
        "id": "mj-n30g-CjYh"
      },
      "execution_count": null,
      "outputs": []
    },
    {
      "cell_type": "code",
      "source": [
        "Q1 = insurance.bmi.quantile(0.25)\n",
        "Q3 = insurance.bmi.quantile(0.75)\n",
        "IQR = Q3 - Q1\n",
        "insurance = insurance[(insurance.bmi >= Q1-1.5*IQR) & (insurance.bmi <= Q3+1.5*IQR)]\n",
        "\n",
        "Q1 = insurance.past_consultations.quantile(0.25)\n",
        "Q3 = insurance.past_consultations.quantile(0.75)\n",
        "IQR = Q3 - Q1\n",
        "insurance = insurance[(insurance.past_consultations >= Q1-1.5*IQR) & (insurance.past_consultations <= Q3+1.5*IQR)]\n",
        "\n",
        "Q1 = insurance.Hospital_expenditure.quantile(0.25)\n",
        "Q3 = insurance.Hospital_expenditure.quantile(0.75)\n",
        "IQR = Q3 - Q1\n",
        "insurance = insurance[(insurance.Hospital_expenditure >= Q1-1.5*IQR) & (insurance.Hospital_expenditure <= Q3+1.5*IQR)]\n",
        "\n",
        "\n",
        "Q1 = insurance.Anual_Salary.quantile(0.25)\n",
        "Q3 = insurance.Anual_Salary.quantile(0.75)\n",
        "IQR = Q3 - Q1\n",
        "insurance = insurance[(insurance.Anual_Salary >= Q1-1.5*IQR) & (insurance.Anual_Salary <= Q3+1.5*IQR)]"
      ],
      "metadata": {
        "id": "_yHaaGEY7fyL"
      },
      "execution_count": null,
      "outputs": []
    },
    {
      "cell_type": "code",
      "source": [
        "insurance.shape"
      ],
      "metadata": {
        "colab": {
          "base_uri": "https://localhost:8080/"
        },
        "id": "2QgnqtBgE8We",
        "outputId": "955c144c-2b6d-4c46-ea13-000cf38e6023"
      },
      "execution_count": null,
      "outputs": [
        {
          "output_type": "execute_result",
          "data": {
            "text/plain": [
              "(1030, 13)"
            ]
          },
          "metadata": {},
          "execution_count": 71
        }
      ]
    },
    {
      "cell_type": "code",
      "source": [
        ""
      ],
      "metadata": {
        "id": "tpQhiTzQE-2J"
      },
      "execution_count": null,
      "outputs": []
    },
    {
      "cell_type": "markdown",
      "source": [
        "# MULTICOLINEARITY "
      ],
      "metadata": {
        "id": "mYNnYrXCHdxE"
      }
    },
    {
      "cell_type": "code",
      "source": [
        "# Here we remove the indepnedent column which are not important to my model \n",
        "# using VIF value we will remove the input columns\n",
        "# standard limit we are taking for vif is 6"
      ],
      "metadata": {
        "id": "yjog6a3XHgKF"
      },
      "execution_count": null,
      "outputs": []
    },
    {
      "cell_type": "code",
      "source": [
        "# here we will not consider the object type data and output data to calculate the vif"
      ],
      "metadata": {
        "id": "dnyW-URXHwP0"
      },
      "execution_count": null,
      "outputs": []
    },
    {
      "cell_type": "code",
      "source": [
        "from statsmodels.stats.outliers_influence import variance_inflation_factor\n",
        "col_list = []\n",
        "for col in insurance.columns:\n",
        "  if((insurance[col].dtype!='object') & (col!='charges')):\n",
        "    col_list.append(col)\n"
      ],
      "metadata": {
        "id": "s8VLS5YzIND1"
      },
      "execution_count": null,
      "outputs": []
    },
    {
      "cell_type": "code",
      "source": [
        "col_list"
      ],
      "metadata": {
        "colab": {
          "base_uri": "https://localhost:8080/"
        },
        "id": "obbfP5NiI2Et",
        "outputId": "30a8b813-eef4-4c8e-87a9-a1e622850887"
      },
      "execution_count": null,
      "outputs": [
        {
          "output_type": "execute_result",
          "data": {
            "text/plain": [
              "['age',\n",
              " 'bmi',\n",
              " 'children',\n",
              " 'Claim_Amount',\n",
              " 'past_consultations',\n",
              " 'num_of_steps',\n",
              " 'Hospital_expenditure',\n",
              " 'NUmber_of_past_hospitalizations',\n",
              " 'Anual_Salary']"
            ]
          },
          "metadata": {},
          "execution_count": 75
        }
      ]
    },
    {
      "cell_type": "code",
      "source": [
        "X = insurance[col_list]\n",
        "X"
      ],
      "metadata": {
        "colab": {
          "base_uri": "https://localhost:8080/",
          "height": 424
        },
        "id": "RsMh9DIWI3_6",
        "outputId": "b395c696-fcfe-4276-a93c-ec86b5a7ef65"
      },
      "execution_count": null,
      "outputs": [
        {
          "output_type": "execute_result",
          "data": {
            "text/plain": [
              "       age     bmi  children  Claim_Amount  past_consultations  num_of_steps  \\\n",
              "0     18.0  23.210       0.0   29087.54313                17.0      715428.0   \n",
              "1     18.0  30.140       0.0   39053.67437                 7.0      699157.0   \n",
              "2     18.0  33.330       0.0   39023.62759                19.0      702341.0   \n",
              "3     18.0  33.660       0.0   28185.39332                11.0      700250.0   \n",
              "4     18.0  34.100       0.0   14697.85941                16.0      711584.0   \n",
              "...    ...     ...       ...           ...                 ...           ...   \n",
              "1046  29.0  27.940       1.0   51168.25474                23.0      993751.0   \n",
              "1048  31.0  25.900       3.0   46619.40230                27.0      989387.0   \n",
              "1050  31.0  29.810       0.0   24382.58056                21.0      973924.0   \n",
              "1062  43.0  20.045       2.0   21596.43846                10.0      994419.0   \n",
              "1069  35.0  28.025       0.0   17200.14586                15.0      993979.0   \n",
              "\n",
              "      Hospital_expenditure  NUmber_of_past_hospitalizations  Anual_Salary  \n",
              "0             4.720921e+06                              0.0  5.578497e+07  \n",
              "1             4.329832e+06                              0.0  1.370089e+07  \n",
              "2             6.884861e+06                              0.0  7.352311e+07  \n",
              "3             4.274774e+06                              0.0  7.581968e+07  \n",
              "4             3.787294e+06                              0.0  2.301232e+07  \n",
              "...                    ...                              ...           ...  \n",
              "1046          1.665982e+07                              1.0  3.712188e+08  \n",
              "1048          1.361938e+07                              1.0  3.812895e+08  \n",
              "1050          1.028991e+07                              1.0  3.745310e+08  \n",
              "1062          1.083030e+07                              1.0  1.419361e+08  \n",
              "1069          1.247744e+07                              1.0  1.419361e+08  \n",
              "\n",
              "[1030 rows x 9 columns]"
            ],
            "text/html": [
              "\n",
              "  <div id=\"df-a319fb01-0e10-4508-8622-8fb4725d2c02\">\n",
              "    <div class=\"colab-df-container\">\n",
              "      <div>\n",
              "<style scoped>\n",
              "    .dataframe tbody tr th:only-of-type {\n",
              "        vertical-align: middle;\n",
              "    }\n",
              "\n",
              "    .dataframe tbody tr th {\n",
              "        vertical-align: top;\n",
              "    }\n",
              "\n",
              "    .dataframe thead th {\n",
              "        text-align: right;\n",
              "    }\n",
              "</style>\n",
              "<table border=\"1\" class=\"dataframe\">\n",
              "  <thead>\n",
              "    <tr style=\"text-align: right;\">\n",
              "      <th></th>\n",
              "      <th>age</th>\n",
              "      <th>bmi</th>\n",
              "      <th>children</th>\n",
              "      <th>Claim_Amount</th>\n",
              "      <th>past_consultations</th>\n",
              "      <th>num_of_steps</th>\n",
              "      <th>Hospital_expenditure</th>\n",
              "      <th>NUmber_of_past_hospitalizations</th>\n",
              "      <th>Anual_Salary</th>\n",
              "    </tr>\n",
              "  </thead>\n",
              "  <tbody>\n",
              "    <tr>\n",
              "      <th>0</th>\n",
              "      <td>18.0</td>\n",
              "      <td>23.210</td>\n",
              "      <td>0.0</td>\n",
              "      <td>29087.54313</td>\n",
              "      <td>17.0</td>\n",
              "      <td>715428.0</td>\n",
              "      <td>4.720921e+06</td>\n",
              "      <td>0.0</td>\n",
              "      <td>5.578497e+07</td>\n",
              "    </tr>\n",
              "    <tr>\n",
              "      <th>1</th>\n",
              "      <td>18.0</td>\n",
              "      <td>30.140</td>\n",
              "      <td>0.0</td>\n",
              "      <td>39053.67437</td>\n",
              "      <td>7.0</td>\n",
              "      <td>699157.0</td>\n",
              "      <td>4.329832e+06</td>\n",
              "      <td>0.0</td>\n",
              "      <td>1.370089e+07</td>\n",
              "    </tr>\n",
              "    <tr>\n",
              "      <th>2</th>\n",
              "      <td>18.0</td>\n",
              "      <td>33.330</td>\n",
              "      <td>0.0</td>\n",
              "      <td>39023.62759</td>\n",
              "      <td>19.0</td>\n",
              "      <td>702341.0</td>\n",
              "      <td>6.884861e+06</td>\n",
              "      <td>0.0</td>\n",
              "      <td>7.352311e+07</td>\n",
              "    </tr>\n",
              "    <tr>\n",
              "      <th>3</th>\n",
              "      <td>18.0</td>\n",
              "      <td>33.660</td>\n",
              "      <td>0.0</td>\n",
              "      <td>28185.39332</td>\n",
              "      <td>11.0</td>\n",
              "      <td>700250.0</td>\n",
              "      <td>4.274774e+06</td>\n",
              "      <td>0.0</td>\n",
              "      <td>7.581968e+07</td>\n",
              "    </tr>\n",
              "    <tr>\n",
              "      <th>4</th>\n",
              "      <td>18.0</td>\n",
              "      <td>34.100</td>\n",
              "      <td>0.0</td>\n",
              "      <td>14697.85941</td>\n",
              "      <td>16.0</td>\n",
              "      <td>711584.0</td>\n",
              "      <td>3.787294e+06</td>\n",
              "      <td>0.0</td>\n",
              "      <td>2.301232e+07</td>\n",
              "    </tr>\n",
              "    <tr>\n",
              "      <th>...</th>\n",
              "      <td>...</td>\n",
              "      <td>...</td>\n",
              "      <td>...</td>\n",
              "      <td>...</td>\n",
              "      <td>...</td>\n",
              "      <td>...</td>\n",
              "      <td>...</td>\n",
              "      <td>...</td>\n",
              "      <td>...</td>\n",
              "    </tr>\n",
              "    <tr>\n",
              "      <th>1046</th>\n",
              "      <td>29.0</td>\n",
              "      <td>27.940</td>\n",
              "      <td>1.0</td>\n",
              "      <td>51168.25474</td>\n",
              "      <td>23.0</td>\n",
              "      <td>993751.0</td>\n",
              "      <td>1.665982e+07</td>\n",
              "      <td>1.0</td>\n",
              "      <td>3.712188e+08</td>\n",
              "    </tr>\n",
              "    <tr>\n",
              "      <th>1048</th>\n",
              "      <td>31.0</td>\n",
              "      <td>25.900</td>\n",
              "      <td>3.0</td>\n",
              "      <td>46619.40230</td>\n",
              "      <td>27.0</td>\n",
              "      <td>989387.0</td>\n",
              "      <td>1.361938e+07</td>\n",
              "      <td>1.0</td>\n",
              "      <td>3.812895e+08</td>\n",
              "    </tr>\n",
              "    <tr>\n",
              "      <th>1050</th>\n",
              "      <td>31.0</td>\n",
              "      <td>29.810</td>\n",
              "      <td>0.0</td>\n",
              "      <td>24382.58056</td>\n",
              "      <td>21.0</td>\n",
              "      <td>973924.0</td>\n",
              "      <td>1.028991e+07</td>\n",
              "      <td>1.0</td>\n",
              "      <td>3.745310e+08</td>\n",
              "    </tr>\n",
              "    <tr>\n",
              "      <th>1062</th>\n",
              "      <td>43.0</td>\n",
              "      <td>20.045</td>\n",
              "      <td>2.0</td>\n",
              "      <td>21596.43846</td>\n",
              "      <td>10.0</td>\n",
              "      <td>994419.0</td>\n",
              "      <td>1.083030e+07</td>\n",
              "      <td>1.0</td>\n",
              "      <td>1.419361e+08</td>\n",
              "    </tr>\n",
              "    <tr>\n",
              "      <th>1069</th>\n",
              "      <td>35.0</td>\n",
              "      <td>28.025</td>\n",
              "      <td>0.0</td>\n",
              "      <td>17200.14586</td>\n",
              "      <td>15.0</td>\n",
              "      <td>993979.0</td>\n",
              "      <td>1.247744e+07</td>\n",
              "      <td>1.0</td>\n",
              "      <td>1.419361e+08</td>\n",
              "    </tr>\n",
              "  </tbody>\n",
              "</table>\n",
              "<p>1030 rows × 9 columns</p>\n",
              "</div>\n",
              "      <button class=\"colab-df-convert\" onclick=\"convertToInteractive('df-a319fb01-0e10-4508-8622-8fb4725d2c02')\"\n",
              "              title=\"Convert this dataframe to an interactive table.\"\n",
              "              style=\"display:none;\">\n",
              "        \n",
              "  <svg xmlns=\"http://www.w3.org/2000/svg\" height=\"24px\"viewBox=\"0 0 24 24\"\n",
              "       width=\"24px\">\n",
              "    <path d=\"M0 0h24v24H0V0z\" fill=\"none\"/>\n",
              "    <path d=\"M18.56 5.44l.94 2.06.94-2.06 2.06-.94-2.06-.94-.94-2.06-.94 2.06-2.06.94zm-11 1L8.5 8.5l.94-2.06 2.06-.94-2.06-.94L8.5 2.5l-.94 2.06-2.06.94zm10 10l.94 2.06.94-2.06 2.06-.94-2.06-.94-.94-2.06-.94 2.06-2.06.94z\"/><path d=\"M17.41 7.96l-1.37-1.37c-.4-.4-.92-.59-1.43-.59-.52 0-1.04.2-1.43.59L10.3 9.45l-7.72 7.72c-.78.78-.78 2.05 0 2.83L4 21.41c.39.39.9.59 1.41.59.51 0 1.02-.2 1.41-.59l7.78-7.78 2.81-2.81c.8-.78.8-2.07 0-2.86zM5.41 20L4 18.59l7.72-7.72 1.47 1.35L5.41 20z\"/>\n",
              "  </svg>\n",
              "      </button>\n",
              "      \n",
              "  <style>\n",
              "    .colab-df-container {\n",
              "      display:flex;\n",
              "      flex-wrap:wrap;\n",
              "      gap: 12px;\n",
              "    }\n",
              "\n",
              "    .colab-df-convert {\n",
              "      background-color: #E8F0FE;\n",
              "      border: none;\n",
              "      border-radius: 50%;\n",
              "      cursor: pointer;\n",
              "      display: none;\n",
              "      fill: #1967D2;\n",
              "      height: 32px;\n",
              "      padding: 0 0 0 0;\n",
              "      width: 32px;\n",
              "    }\n",
              "\n",
              "    .colab-df-convert:hover {\n",
              "      background-color: #E2EBFA;\n",
              "      box-shadow: 0px 1px 2px rgba(60, 64, 67, 0.3), 0px 1px 3px 1px rgba(60, 64, 67, 0.15);\n",
              "      fill: #174EA6;\n",
              "    }\n",
              "\n",
              "    [theme=dark] .colab-df-convert {\n",
              "      background-color: #3B4455;\n",
              "      fill: #D2E3FC;\n",
              "    }\n",
              "\n",
              "    [theme=dark] .colab-df-convert:hover {\n",
              "      background-color: #434B5C;\n",
              "      box-shadow: 0px 1px 3px 1px rgba(0, 0, 0, 0.15);\n",
              "      filter: drop-shadow(0px 1px 2px rgba(0, 0, 0, 0.3));\n",
              "      fill: #FFFFFF;\n",
              "    }\n",
              "  </style>\n",
              "\n",
              "      <script>\n",
              "        const buttonEl =\n",
              "          document.querySelector('#df-a319fb01-0e10-4508-8622-8fb4725d2c02 button.colab-df-convert');\n",
              "        buttonEl.style.display =\n",
              "          google.colab.kernel.accessAllowed ? 'block' : 'none';\n",
              "\n",
              "        async function convertToInteractive(key) {\n",
              "          const element = document.querySelector('#df-a319fb01-0e10-4508-8622-8fb4725d2c02');\n",
              "          const dataTable =\n",
              "            await google.colab.kernel.invokeFunction('convertToInteractive',\n",
              "                                                     [key], {});\n",
              "          if (!dataTable) return;\n",
              "\n",
              "          const docLinkHtml = 'Like what you see? Visit the ' +\n",
              "            '<a target=\"_blank\" href=https://colab.research.google.com/notebooks/data_table.ipynb>data table notebook</a>'\n",
              "            + ' to learn more about interactive tables.';\n",
              "          element.innerHTML = '';\n",
              "          dataTable['output_type'] = 'display_data';\n",
              "          await google.colab.output.renderOutput(dataTable, element);\n",
              "          const docLink = document.createElement('div');\n",
              "          docLink.innerHTML = docLinkHtml;\n",
              "          element.appendChild(docLink);\n",
              "        }\n",
              "      </script>\n",
              "    </div>\n",
              "  </div>\n",
              "  "
            ]
          },
          "metadata": {},
          "execution_count": 76
        }
      ]
    },
    {
      "cell_type": "code",
      "source": [
        "X.columns"
      ],
      "metadata": {
        "colab": {
          "base_uri": "https://localhost:8080/"
        },
        "id": "cXmx-95mJwSe",
        "outputId": "6bcd9a4a-2792-4eed-aa95-ffa6abf318de"
      },
      "execution_count": null,
      "outputs": [
        {
          "output_type": "execute_result",
          "data": {
            "text/plain": [
              "Index(['age', 'bmi', 'children', 'Claim_Amount', 'past_consultations',\n",
              "       'num_of_steps', 'Hospital_expenditure',\n",
              "       'NUmber_of_past_hospitalizations', 'Anual_Salary'],\n",
              "      dtype='object')"
            ]
          },
          "metadata": {},
          "execution_count": 77
        }
      ]
    },
    {
      "cell_type": "code",
      "source": [
        "# here we are calculation the index for each columns"
      ],
      "metadata": {
        "id": "c_tMIg4vJ_bZ"
      },
      "execution_count": null,
      "outputs": []
    },
    {
      "cell_type": "code",
      "source": [
        "for i in range(len(X.columns)):\n",
        "  print(i)"
      ],
      "metadata": {
        "colab": {
          "base_uri": "https://localhost:8080/"
        },
        "id": "sJDB4ePYKWuN",
        "outputId": "7584e291-4f1b-4849-ea1f-5de4ec4ae5da"
      },
      "execution_count": null,
      "outputs": [
        {
          "output_type": "stream",
          "name": "stdout",
          "text": [
            "0\n",
            "1\n",
            "2\n",
            "3\n",
            "4\n",
            "5\n",
            "6\n",
            "7\n",
            "8\n"
          ]
        }
      ]
    },
    {
      "cell_type": "code",
      "source": [
        "X = insurance[col_list]\n",
        "vif_data = pd.DataFrame()\n",
        "vif_data['feature'] = X.columns\n",
        "vif_data['VIF'] = [variance_inflation_factor(X.values,i) for i in range(len(X.columns))]\n",
        "print(vif_data)\n"
      ],
      "metadata": {
        "colab": {
          "base_uri": "https://localhost:8080/"
        },
        "id": "PpPqSs44Kc5V",
        "outputId": "0b9609e1-969b-42c9-b051-571c09f4528c"
      },
      "execution_count": null,
      "outputs": [
        {
          "output_type": "stream",
          "name": "stdout",
          "text": [
            "                           feature        VIF\n",
            "0                              age  15.608958\n",
            "1                              bmi  26.366792\n",
            "2                         children   2.029059\n",
            "3                     Claim_Amount   5.685160\n",
            "4               past_consultations   6.257322\n",
            "5                     num_of_steps  61.435128\n",
            "6             Hospital_expenditure   5.324604\n",
            "7  NUmber_of_past_hospitalizations  12.070695\n",
            "8                     Anual_Salary   5.723023\n"
          ]
        }
      ]
    },
    {
      "cell_type": "code",
      "source": [
        "insurance = insurance.drop(['num_of_steps'], axis = 1)"
      ],
      "metadata": {
        "id": "ODD-IVJPLum8"
      },
      "execution_count": null,
      "outputs": []
    },
    {
      "cell_type": "code",
      "source": [
        "len(X.columns)"
      ],
      "metadata": {
        "colab": {
          "base_uri": "https://localhost:8080/"
        },
        "id": "VvMZB_5iNN5n",
        "outputId": "36cac4e2-0f36-42b5-e392-b3465f3d1bec"
      },
      "execution_count": null,
      "outputs": [
        {
          "output_type": "execute_result",
          "data": {
            "text/plain": [
              "9"
            ]
          },
          "metadata": {},
          "execution_count": 82
        }
      ]
    },
    {
      "cell_type": "code",
      "source": [
        "col_list = []\n",
        "for col in insurance.columns:\n",
        "  if((insurance[col].dtype!='object') & (col!='charges')):\n",
        "    col_list.append(col)\n",
        "\n",
        "X = insurance[col_list]\n",
        "vif_data = pd.DataFrame()\n",
        "vif_data['feature'] = X.columns\n",
        "vif_data['VIF'] = [variance_inflation_factor(X.values,i) for i in range(len(X.columns))]\n",
        "print(vif_data)"
      ],
      "metadata": {
        "colab": {
          "base_uri": "https://localhost:8080/"
        },
        "id": "DDSl9-laNSpo",
        "outputId": "acedf63a-8bd8-4040-fd03-3fa687eb2606"
      },
      "execution_count": null,
      "outputs": [
        {
          "output_type": "stream",
          "name": "stdout",
          "text": [
            "                           feature        VIF\n",
            "0                              age  14.636412\n",
            "1                              bmi  12.356789\n",
            "2                         children   2.016852\n",
            "3                     Claim_Amount   5.250730\n",
            "4               past_consultations   5.835804\n",
            "5             Hospital_expenditure   5.034008\n",
            "6  NUmber_of_past_hospitalizations  10.723083\n",
            "7                     Anual_Salary   5.633486\n"
          ]
        }
      ]
    },
    {
      "cell_type": "code",
      "source": [
        "len(X.columns)"
      ],
      "metadata": {
        "colab": {
          "base_uri": "https://localhost:8080/"
        },
        "id": "Hi9zIRVFN2Yv",
        "outputId": "98adec69-29ec-4795-b4a1-23a2cc99f520"
      },
      "execution_count": null,
      "outputs": [
        {
          "output_type": "execute_result",
          "data": {
            "text/plain": [
              "8"
            ]
          },
          "metadata": {},
          "execution_count": 84
        }
      ]
    },
    {
      "cell_type": "code",
      "source": [
        "insurance = insurance.drop(['age'], axis = 1)"
      ],
      "metadata": {
        "id": "jM8KCIz1Ofu6"
      },
      "execution_count": null,
      "outputs": []
    },
    {
      "cell_type": "code",
      "source": [
        "col_list = []\n",
        "for col in insurance.columns:\n",
        "  if((insurance[col].dtype!='object') & (col!='charges')):\n",
        "    col_list.append(col)\n",
        "\n",
        "X = insurance[col_list]\n",
        "vif_data = pd.DataFrame()\n",
        "vif_data['feature'] = X.columns\n",
        "vif_data['VIF'] = [variance_inflation_factor(X.values,i) for i in range(len(X.columns))]\n",
        "print(vif_data)"
      ],
      "metadata": {
        "colab": {
          "base_uri": "https://localhost:8080/"
        },
        "id": "FQJjj5UvOnhx",
        "outputId": "653dfebf-9d0a-4e31-fe49-b05a95a1ac4b"
      },
      "execution_count": null,
      "outputs": [
        {
          "output_type": "stream",
          "name": "stdout",
          "text": [
            "                           feature        VIF\n",
            "0                              bmi  10.365491\n",
            "1                         children   1.978240\n",
            "2                     Claim_Amount   5.238177\n",
            "3               past_consultations   5.816717\n",
            "4             Hospital_expenditure   5.032963\n",
            "5  NUmber_of_past_hospitalizations   8.414445\n",
            "6                     Anual_Salary   4.900730\n"
          ]
        }
      ]
    },
    {
      "cell_type": "code",
      "source": [
        "insurance = insurance.drop(['bmi'], axis = 1)"
      ],
      "metadata": {
        "id": "k88RbLktOpbv"
      },
      "execution_count": null,
      "outputs": []
    },
    {
      "cell_type": "code",
      "source": [
        "col_list = []\n",
        "for col in insurance.columns:\n",
        "  if((insurance[col].dtype!='object') & (col!='charges')):\n",
        "    col_list.append(col)\n",
        "\n",
        "X = insurance[col_list]\n",
        "vif_data = pd.DataFrame()\n",
        "vif_data['feature'] = X.columns\n",
        "vif_data['VIF'] = [variance_inflation_factor(X.values,i) for i in range(len(X.columns))]\n",
        "print(vif_data)"
      ],
      "metadata": {
        "colab": {
          "base_uri": "https://localhost:8080/"
        },
        "id": "sDNz_woNOtXN",
        "outputId": "b2c18909-2c50-4709-be9b-a61122a00fcb"
      },
      "execution_count": null,
      "outputs": [
        {
          "output_type": "stream",
          "name": "stdout",
          "text": [
            "                           feature       VIF\n",
            "0                         children  1.976461\n",
            "1                     Claim_Amount  4.549928\n",
            "2               past_consultations  5.040029\n",
            "3             Hospital_expenditure  4.567501\n",
            "4  NUmber_of_past_hospitalizations  7.336623\n",
            "5                     Anual_Salary  4.854536\n"
          ]
        }
      ]
    },
    {
      "cell_type": "code",
      "source": [
        "insurance = insurance.drop(['NUmber_of_past_hospitalizations'], axis = 1)"
      ],
      "metadata": {
        "id": "PFDYxZETOu39"
      },
      "execution_count": null,
      "outputs": []
    },
    {
      "cell_type": "code",
      "source": [
        "col_list = []\n",
        "for col in insurance.columns:\n",
        "  if((insurance[col].dtype!='object') & (col!='charges')):\n",
        "    col_list.append(col)\n",
        "\n",
        "X = insurance[col_list]\n",
        "vif_data = pd.DataFrame()\n",
        "vif_data['feature'] = X.columns\n",
        "vif_data['VIF'] = [variance_inflation_factor(X.values,i) for i in range(len(X.columns))]\n",
        "print(vif_data)"
      ],
      "metadata": {
        "colab": {
          "base_uri": "https://localhost:8080/"
        },
        "id": "JqA2ld3LO2pM",
        "outputId": "be6374ef-a593-48ea-a619-082224282ba5"
      },
      "execution_count": null,
      "outputs": [
        {
          "output_type": "stream",
          "name": "stdout",
          "text": [
            "                feature       VIF\n",
            "0              children  1.714434\n",
            "1          Claim_Amount  4.169548\n",
            "2    past_consultations  4.672344\n",
            "3  Hospital_expenditure  4.392130\n",
            "4          Anual_Salary  4.398756\n"
          ]
        }
      ]
    },
    {
      "cell_type": "code",
      "source": [
        "x = insurance.loc[ :, ['children','Claim_Amount','past_consultations','Hospital_expenditure','Anual_Salary']]\n",
        "y = insurance.iloc[:,-1]"
      ],
      "metadata": {
        "id": "jVgVB6RVO4pg"
      },
      "execution_count": null,
      "outputs": []
    },
    {
      "cell_type": "code",
      "source": [
        "x"
      ],
      "metadata": {
        "colab": {
          "base_uri": "https://localhost:8080/",
          "height": 424
        },
        "id": "3U2l-X56RFmV",
        "outputId": "18ea700e-1cb8-4649-936f-e131141fe46c"
      },
      "execution_count": null,
      "outputs": [
        {
          "output_type": "execute_result",
          "data": {
            "text/plain": [
              "      children  Claim_Amount  past_consultations  Hospital_expenditure  \\\n",
              "0          0.0   29087.54313                17.0          4.720921e+06   \n",
              "1          0.0   39053.67437                 7.0          4.329832e+06   \n",
              "2          0.0   39023.62759                19.0          6.884861e+06   \n",
              "3          0.0   28185.39332                11.0          4.274774e+06   \n",
              "4          0.0   14697.85941                16.0          3.787294e+06   \n",
              "...        ...           ...                 ...                   ...   \n",
              "1046       1.0   51168.25474                23.0          1.665982e+07   \n",
              "1048       3.0   46619.40230                27.0          1.361938e+07   \n",
              "1050       0.0   24382.58056                21.0          1.028991e+07   \n",
              "1062       2.0   21596.43846                10.0          1.083030e+07   \n",
              "1069       0.0   17200.14586                15.0          1.247744e+07   \n",
              "\n",
              "      Anual_Salary  \n",
              "0     5.578497e+07  \n",
              "1     1.370089e+07  \n",
              "2     7.352311e+07  \n",
              "3     7.581968e+07  \n",
              "4     2.301232e+07  \n",
              "...            ...  \n",
              "1046  3.712188e+08  \n",
              "1048  3.812895e+08  \n",
              "1050  3.745310e+08  \n",
              "1062  1.419361e+08  \n",
              "1069  1.419361e+08  \n",
              "\n",
              "[1030 rows x 5 columns]"
            ],
            "text/html": [
              "\n",
              "  <div id=\"df-db431726-1741-4ade-9ad1-8a8602f2d25f\">\n",
              "    <div class=\"colab-df-container\">\n",
              "      <div>\n",
              "<style scoped>\n",
              "    .dataframe tbody tr th:only-of-type {\n",
              "        vertical-align: middle;\n",
              "    }\n",
              "\n",
              "    .dataframe tbody tr th {\n",
              "        vertical-align: top;\n",
              "    }\n",
              "\n",
              "    .dataframe thead th {\n",
              "        text-align: right;\n",
              "    }\n",
              "</style>\n",
              "<table border=\"1\" class=\"dataframe\">\n",
              "  <thead>\n",
              "    <tr style=\"text-align: right;\">\n",
              "      <th></th>\n",
              "      <th>children</th>\n",
              "      <th>Claim_Amount</th>\n",
              "      <th>past_consultations</th>\n",
              "      <th>Hospital_expenditure</th>\n",
              "      <th>Anual_Salary</th>\n",
              "    </tr>\n",
              "  </thead>\n",
              "  <tbody>\n",
              "    <tr>\n",
              "      <th>0</th>\n",
              "      <td>0.0</td>\n",
              "      <td>29087.54313</td>\n",
              "      <td>17.0</td>\n",
              "      <td>4.720921e+06</td>\n",
              "      <td>5.578497e+07</td>\n",
              "    </tr>\n",
              "    <tr>\n",
              "      <th>1</th>\n",
              "      <td>0.0</td>\n",
              "      <td>39053.67437</td>\n",
              "      <td>7.0</td>\n",
              "      <td>4.329832e+06</td>\n",
              "      <td>1.370089e+07</td>\n",
              "    </tr>\n",
              "    <tr>\n",
              "      <th>2</th>\n",
              "      <td>0.0</td>\n",
              "      <td>39023.62759</td>\n",
              "      <td>19.0</td>\n",
              "      <td>6.884861e+06</td>\n",
              "      <td>7.352311e+07</td>\n",
              "    </tr>\n",
              "    <tr>\n",
              "      <th>3</th>\n",
              "      <td>0.0</td>\n",
              "      <td>28185.39332</td>\n",
              "      <td>11.0</td>\n",
              "      <td>4.274774e+06</td>\n",
              "      <td>7.581968e+07</td>\n",
              "    </tr>\n",
              "    <tr>\n",
              "      <th>4</th>\n",
              "      <td>0.0</td>\n",
              "      <td>14697.85941</td>\n",
              "      <td>16.0</td>\n",
              "      <td>3.787294e+06</td>\n",
              "      <td>2.301232e+07</td>\n",
              "    </tr>\n",
              "    <tr>\n",
              "      <th>...</th>\n",
              "      <td>...</td>\n",
              "      <td>...</td>\n",
              "      <td>...</td>\n",
              "      <td>...</td>\n",
              "      <td>...</td>\n",
              "    </tr>\n",
              "    <tr>\n",
              "      <th>1046</th>\n",
              "      <td>1.0</td>\n",
              "      <td>51168.25474</td>\n",
              "      <td>23.0</td>\n",
              "      <td>1.665982e+07</td>\n",
              "      <td>3.712188e+08</td>\n",
              "    </tr>\n",
              "    <tr>\n",
              "      <th>1048</th>\n",
              "      <td>3.0</td>\n",
              "      <td>46619.40230</td>\n",
              "      <td>27.0</td>\n",
              "      <td>1.361938e+07</td>\n",
              "      <td>3.812895e+08</td>\n",
              "    </tr>\n",
              "    <tr>\n",
              "      <th>1050</th>\n",
              "      <td>0.0</td>\n",
              "      <td>24382.58056</td>\n",
              "      <td>21.0</td>\n",
              "      <td>1.028991e+07</td>\n",
              "      <td>3.745310e+08</td>\n",
              "    </tr>\n",
              "    <tr>\n",
              "      <th>1062</th>\n",
              "      <td>2.0</td>\n",
              "      <td>21596.43846</td>\n",
              "      <td>10.0</td>\n",
              "      <td>1.083030e+07</td>\n",
              "      <td>1.419361e+08</td>\n",
              "    </tr>\n",
              "    <tr>\n",
              "      <th>1069</th>\n",
              "      <td>0.0</td>\n",
              "      <td>17200.14586</td>\n",
              "      <td>15.0</td>\n",
              "      <td>1.247744e+07</td>\n",
              "      <td>1.419361e+08</td>\n",
              "    </tr>\n",
              "  </tbody>\n",
              "</table>\n",
              "<p>1030 rows × 5 columns</p>\n",
              "</div>\n",
              "      <button class=\"colab-df-convert\" onclick=\"convertToInteractive('df-db431726-1741-4ade-9ad1-8a8602f2d25f')\"\n",
              "              title=\"Convert this dataframe to an interactive table.\"\n",
              "              style=\"display:none;\">\n",
              "        \n",
              "  <svg xmlns=\"http://www.w3.org/2000/svg\" height=\"24px\"viewBox=\"0 0 24 24\"\n",
              "       width=\"24px\">\n",
              "    <path d=\"M0 0h24v24H0V0z\" fill=\"none\"/>\n",
              "    <path d=\"M18.56 5.44l.94 2.06.94-2.06 2.06-.94-2.06-.94-.94-2.06-.94 2.06-2.06.94zm-11 1L8.5 8.5l.94-2.06 2.06-.94-2.06-.94L8.5 2.5l-.94 2.06-2.06.94zm10 10l.94 2.06.94-2.06 2.06-.94-2.06-.94-.94-2.06-.94 2.06-2.06.94z\"/><path d=\"M17.41 7.96l-1.37-1.37c-.4-.4-.92-.59-1.43-.59-.52 0-1.04.2-1.43.59L10.3 9.45l-7.72 7.72c-.78.78-.78 2.05 0 2.83L4 21.41c.39.39.9.59 1.41.59.51 0 1.02-.2 1.41-.59l7.78-7.78 2.81-2.81c.8-.78.8-2.07 0-2.86zM5.41 20L4 18.59l7.72-7.72 1.47 1.35L5.41 20z\"/>\n",
              "  </svg>\n",
              "      </button>\n",
              "      \n",
              "  <style>\n",
              "    .colab-df-container {\n",
              "      display:flex;\n",
              "      flex-wrap:wrap;\n",
              "      gap: 12px;\n",
              "    }\n",
              "\n",
              "    .colab-df-convert {\n",
              "      background-color: #E8F0FE;\n",
              "      border: none;\n",
              "      border-radius: 50%;\n",
              "      cursor: pointer;\n",
              "      display: none;\n",
              "      fill: #1967D2;\n",
              "      height: 32px;\n",
              "      padding: 0 0 0 0;\n",
              "      width: 32px;\n",
              "    }\n",
              "\n",
              "    .colab-df-convert:hover {\n",
              "      background-color: #E2EBFA;\n",
              "      box-shadow: 0px 1px 2px rgba(60, 64, 67, 0.3), 0px 1px 3px 1px rgba(60, 64, 67, 0.15);\n",
              "      fill: #174EA6;\n",
              "    }\n",
              "\n",
              "    [theme=dark] .colab-df-convert {\n",
              "      background-color: #3B4455;\n",
              "      fill: #D2E3FC;\n",
              "    }\n",
              "\n",
              "    [theme=dark] .colab-df-convert:hover {\n",
              "      background-color: #434B5C;\n",
              "      box-shadow: 0px 1px 3px 1px rgba(0, 0, 0, 0.15);\n",
              "      filter: drop-shadow(0px 1px 2px rgba(0, 0, 0, 0.3));\n",
              "      fill: #FFFFFF;\n",
              "    }\n",
              "  </style>\n",
              "\n",
              "      <script>\n",
              "        const buttonEl =\n",
              "          document.querySelector('#df-db431726-1741-4ade-9ad1-8a8602f2d25f button.colab-df-convert');\n",
              "        buttonEl.style.display =\n",
              "          google.colab.kernel.accessAllowed ? 'block' : 'none';\n",
              "\n",
              "        async function convertToInteractive(key) {\n",
              "          const element = document.querySelector('#df-db431726-1741-4ade-9ad1-8a8602f2d25f');\n",
              "          const dataTable =\n",
              "            await google.colab.kernel.invokeFunction('convertToInteractive',\n",
              "                                                     [key], {});\n",
              "          if (!dataTable) return;\n",
              "\n",
              "          const docLinkHtml = 'Like what you see? Visit the ' +\n",
              "            '<a target=\"_blank\" href=https://colab.research.google.com/notebooks/data_table.ipynb>data table notebook</a>'\n",
              "            + ' to learn more about interactive tables.';\n",
              "          element.innerHTML = '';\n",
              "          dataTable['output_type'] = 'display_data';\n",
              "          await google.colab.output.renderOutput(dataTable, element);\n",
              "          const docLink = document.createElement('div');\n",
              "          docLink.innerHTML = docLinkHtml;\n",
              "          element.appendChild(docLink);\n",
              "        }\n",
              "      </script>\n",
              "    </div>\n",
              "  </div>\n",
              "  "
            ]
          },
          "metadata": {},
          "execution_count": 92
        }
      ]
    },
    {
      "cell_type": "code",
      "source": [
        "y"
      ],
      "metadata": {
        "colab": {
          "base_uri": "https://localhost:8080/"
        },
        "id": "VHBEvo06RGaS",
        "outputId": "a1b59fcc-f4c1-441f-ba99-d15bff46c4aa"
      },
      "execution_count": null,
      "outputs": [
        {
          "output_type": "execute_result",
          "data": {
            "text/plain": [
              "0        1121.87390\n",
              "1        1131.50660\n",
              "2        1135.94070\n",
              "3        1136.39940\n",
              "4        1137.01100\n",
              "           ...     \n",
              "1046    19107.77960\n",
              "1048    19199.94400\n",
              "1050    19350.36890\n",
              "1062    19798.05455\n",
              "1069    20234.85475\n",
              "Name: charges, Length: 1030, dtype: float64"
            ]
          },
          "metadata": {},
          "execution_count": 93
        }
      ]
    },
    {
      "cell_type": "code",
      "source": [
        "from sklearn.linear_model import LinearRegression\n",
        "from sklearn.model_selection import train_test_split"
      ],
      "metadata": {
        "id": "dccRmbggRIyB"
      },
      "execution_count": null,
      "outputs": []
    },
    {
      "cell_type": "code",
      "source": [
        "x_train,x_test,y_train,y_test = train_test_split(x,y,train_size = 0.8, random_state = 0)\n"
      ],
      "metadata": {
        "id": "zFCxLe1zRh6q"
      },
      "execution_count": null,
      "outputs": []
    },
    {
      "cell_type": "code",
      "source": [
        "y_test.shape"
      ],
      "metadata": {
        "colab": {
          "base_uri": "https://localhost:8080/"
        },
        "id": "rwUY3oJNSJXs",
        "outputId": "292819d5-9187-4d4c-ff25-54690a53cb1a"
      },
      "execution_count": null,
      "outputs": [
        {
          "output_type": "execute_result",
          "data": {
            "text/plain": [
              "(206,)"
            ]
          },
          "metadata": {},
          "execution_count": 99
        }
      ]
    },
    {
      "cell_type": "code",
      "source": [
        "l_model = LinearRegression()"
      ],
      "metadata": {
        "id": "-Cdf36rPSo0n"
      },
      "execution_count": null,
      "outputs": []
    },
    {
      "cell_type": "code",
      "source": [
        "# we are making our model learn\n",
        "l_model.fit(x_train,y_train)"
      ],
      "metadata": {
        "colab": {
          "base_uri": "https://localhost:8080/"
        },
        "id": "RStXGcmGS9Qx",
        "outputId": "3ec300c9-8b65-499c-b76c-146cf2800f61"
      },
      "execution_count": null,
      "outputs": [
        {
          "output_type": "execute_result",
          "data": {
            "text/plain": [
              "LinearRegression()"
            ]
          },
          "metadata": {},
          "execution_count": 101
        }
      ]
    },
    {
      "cell_type": "code",
      "source": [
        "y_pred = l_model.predict(x_test)"
      ],
      "metadata": {
        "id": "9iPRcl_BTE4a"
      },
      "execution_count": null,
      "outputs": []
    },
    {
      "cell_type": "code",
      "source": [
        "y_test"
      ],
      "metadata": {
        "colab": {
          "base_uri": "https://localhost:8080/"
        },
        "id": "faZ-jBH0TdHy",
        "outputId": "f197d5d5-85ec-4f26-a80d-7d7a2573cc7b"
      },
      "execution_count": null,
      "outputs": [
        {
          "output_type": "execute_result",
          "data": {
            "text/plain": [
              "752    10704.47000\n",
              "723    10197.77220\n",
              "177     2801.25880\n",
              "834    11848.14100\n",
              "718    10107.22060\n",
              "          ...     \n",
              "627     8688.85885\n",
              "993    16085.12750\n",
              "426     5976.83110\n",
              "895    12925.88600\n",
              "251     3766.88380\n",
              "Name: charges, Length: 206, dtype: float64"
            ]
          },
          "metadata": {},
          "execution_count": 103
        }
      ]
    },
    {
      "cell_type": "code",
      "source": [
        "y_pred"
      ],
      "metadata": {
        "colab": {
          "base_uri": "https://localhost:8080/"
        },
        "id": "MCyP33jyTeqM",
        "outputId": "c45cc870-2be4-44bb-f2b4-cb763150803a"
      },
      "execution_count": null,
      "outputs": [
        {
          "output_type": "execute_result",
          "data": {
            "text/plain": [
              "array([ 7477.40423017, 10578.443268  ,  4259.66079295, 12021.52859231,\n",
              "        9915.24357948,  2815.10173751,  7475.69764864,  4043.79959092,\n",
              "        1877.3664432 ,  1546.64484869,  9360.93985208,  6292.59935309,\n",
              "        7121.09205234,  6919.15474246,  7248.7846374 ,  8111.02307203,\n",
              "        5326.97993863, 11834.60782048, 10988.57714736,  3929.55693796,\n",
              "        4978.51897855,  7053.65734505,  5338.75600212, 10726.59072819,\n",
              "        8127.79035403,  9231.96653164,  3225.88984562,  1978.26793838,\n",
              "        8050.4596932 ,  6813.8405034 ,  9058.84833286,  9692.9387776 ,\n",
              "        7379.36743981,  3138.63622729, 10949.72273967,  6508.93391767,\n",
              "        2871.79435019,  5930.40534103,  8270.06183065,  3578.45213645,\n",
              "        2814.68269165,  7621.29487816,  9386.6030546 ,  4556.84813414,\n",
              "        6973.86686651,  6086.83526659,  9303.55459597,  9646.39571654,\n",
              "        1736.03880059,  4727.13687213, 11053.63024564, 10792.65293439,\n",
              "       10474.86182255,  4616.99422499,  7336.26419776,  4537.25455112,\n",
              "        7095.86546971,  4720.79004617,  5033.18196205,  5254.37221465,\n",
              "       12179.07502131,  5927.50142454,  5682.25088589,  3327.69380184,\n",
              "        5331.49718685,  5261.88985454, 12874.4202059 , 12610.19090511,\n",
              "       13270.22251718, 10783.52354018,  5432.07605899,  5107.9137726 ,\n",
              "        2808.78871628,  7084.6988333 ,  5820.89568457,  7624.33857218,\n",
              "        3711.77340896, 10031.6820931 ,  9165.64877426,  5793.62632335,\n",
              "        7472.77916073,  5426.48406997,  7229.08317586,  4854.96541529,\n",
              "        5367.41532066,  9578.25090983,  8521.80590789,  6027.94734142,\n",
              "       17656.60740748,  4276.79712249,  7651.58053871, 11847.29707341,\n",
              "        2845.67782732,  7218.79419262, 12238.04302854,  5170.09431524,\n",
              "        8448.71698962, 19181.30040037,  8381.1231857 , 11830.96382871,\n",
              "        6966.4712207 ,  7474.46989703,  6885.15004168, 15597.32895705,\n",
              "        3902.79727099, 10122.1879932 ,  4784.75958004,  4948.07212862,\n",
              "        8203.0952745 , 15479.84761928,  9986.39739621,  3044.63058141,\n",
              "        9221.92065576,  4263.66938444, 16717.31141115, 11774.76723752,\n",
              "       12179.28299045, 19235.97404789,  9995.90673003,  5332.74824743,\n",
              "        8234.55577117, 15654.89378487,  5541.56592519,  4134.82272636,\n",
              "       13396.0108047 ,  7448.94971984, 10937.01396702,  6423.62193183,\n",
              "        4475.33549234, 11504.63177959,  4569.417109  ,  3532.05636373,\n",
              "        3549.79218058, 12491.66456177,  6169.41986635,  5072.86133302,\n",
              "       10088.4897295 ,  6159.67082243,  8432.25176764,  6998.50899079,\n",
              "       10065.48395781,  3839.67759276,  4036.81530198, 12179.23561017,\n",
              "        6648.67213975,  9812.65697079,  5184.32171514, 10419.65160475,\n",
              "       11896.09959968,  8232.54318539,  5557.16471875, 16593.54609493,\n",
              "        5533.04150803,  4301.14400856,  7380.79625651, 17341.46239561,\n",
              "        3331.83018305,  7487.80531921,  2962.32912655,  8052.62190047,\n",
              "        4524.74960378,  9290.53851836, 14931.8170832 ,  6074.66180373,\n",
              "       17429.95094773,  2300.60898041,  3882.3014385 ,  5302.12850448,\n",
              "        1160.32170447, 10466.67015563, 11573.15147251,  7034.61733756,\n",
              "       10543.31012766,  8699.63223942,  4797.73048357,  4753.45684236,\n",
              "       10537.30010448,  6223.15540658,  8591.00401159,  7174.50549355,\n",
              "        7044.46172338, 12977.30617873, 10377.7476807 ,  5186.25611951,\n",
              "        6035.18218406,  6512.93314393,  8300.03577401, 20250.33275924,\n",
              "        6786.61977775,  7683.35485519, 10659.27935915,  2375.24425436,\n",
              "       13281.68943145,  6766.06923692,  7926.24090281,  8178.2252691 ,\n",
              "       11532.32597344, 12164.77425514,  7801.99536977,  2596.71923482,\n",
              "        8427.26936411,  5736.4639316 , 15243.83833804,  4847.10161668,\n",
              "       11820.0054408 ,  2376.19155967])"
            ]
          },
          "metadata": {},
          "execution_count": 104
        }
      ]
    },
    {
      "cell_type": "code",
      "source": [
        "# we check accuracy in linear model using r2 score\n",
        "from sklearn.metrics import r2_score\n",
        "r2_score(y_test,y_pred)"
      ],
      "metadata": {
        "colab": {
          "base_uri": "https://localhost:8080/"
        },
        "id": "QR4XtCbKTgBB",
        "outputId": "f06e947a-3843-4056-9cc1-6cd3dee9909d"
      },
      "execution_count": null,
      "outputs": [
        {
          "output_type": "execute_result",
          "data": {
            "text/plain": [
              "0.8461568208272553"
            ]
          },
          "metadata": {},
          "execution_count": 105
        }
      ]
    },
    {
      "cell_type": "code",
      "source": [
        ""
      ],
      "metadata": {
        "id": "jAMdWAQgTzTO"
      },
      "execution_count": null,
      "outputs": []
    }
  ]
}